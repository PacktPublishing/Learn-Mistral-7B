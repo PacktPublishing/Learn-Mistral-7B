{
  "nbformat": 4,
  "nbformat_minor": 0,
  "metadata": {
    "colab": {
      "provenance": []
    },
    "kernelspec": {
      "name": "python3",
      "display_name": "Python 3"
    },
    "language_info": {
      "name": "python"
    }
  },
  "cells": [
    {
      "cell_type": "code",
      "source": [
        "!pip install numpy pandas tensorflow scikit-learn\n",
        "!pip uninstall wandb -y\n",
        "!pip install wandb"
      ],
      "metadata": {
        "colab": {
          "base_uri": "https://localhost:8080/"
        },
        "id": "Q9cqBvPPPzfN",
        "outputId": "29185ee7-70a3-4276-9b4c-9885134b821d"
      },
      "execution_count": 14,
      "outputs": [
        {
          "output_type": "stream",
          "name": "stdout",
          "text": [
            "Requirement already satisfied: numpy in /usr/local/lib/python3.10/dist-packages (1.26.4)\n",
            "Requirement already satisfied: pandas in /usr/local/lib/python3.10/dist-packages (2.1.4)\n",
            "Requirement already satisfied: tensorflow in /usr/local/lib/python3.10/dist-packages (2.17.0)\n",
            "Requirement already satisfied: scikit-learn in /usr/local/lib/python3.10/dist-packages (1.3.2)\n",
            "Requirement already satisfied: python-dateutil>=2.8.2 in /usr/local/lib/python3.10/dist-packages (from pandas) (2.8.2)\n",
            "Requirement already satisfied: pytz>=2020.1 in /usr/local/lib/python3.10/dist-packages (from pandas) (2024.2)\n",
            "Requirement already satisfied: tzdata>=2022.1 in /usr/local/lib/python3.10/dist-packages (from pandas) (2024.1)\n",
            "Requirement already satisfied: absl-py>=1.0.0 in /usr/local/lib/python3.10/dist-packages (from tensorflow) (1.4.0)\n",
            "Requirement already satisfied: astunparse>=1.6.0 in /usr/local/lib/python3.10/dist-packages (from tensorflow) (1.6.3)\n",
            "Requirement already satisfied: flatbuffers>=24.3.25 in /usr/local/lib/python3.10/dist-packages (from tensorflow) (24.3.25)\n",
            "Requirement already satisfied: gast!=0.5.0,!=0.5.1,!=0.5.2,>=0.2.1 in /usr/local/lib/python3.10/dist-packages (from tensorflow) (0.6.0)\n",
            "Requirement already satisfied: google-pasta>=0.1.1 in /usr/local/lib/python3.10/dist-packages (from tensorflow) (0.2.0)\n",
            "Requirement already satisfied: h5py>=3.10.0 in /usr/local/lib/python3.10/dist-packages (from tensorflow) (3.11.0)\n",
            "Requirement already satisfied: libclang>=13.0.0 in /usr/local/lib/python3.10/dist-packages (from tensorflow) (18.1.1)\n",
            "Requirement already satisfied: ml-dtypes<0.5.0,>=0.3.1 in /usr/local/lib/python3.10/dist-packages (from tensorflow) (0.4.0)\n",
            "Requirement already satisfied: opt-einsum>=2.3.2 in /usr/local/lib/python3.10/dist-packages (from tensorflow) (3.3.0)\n",
            "Requirement already satisfied: packaging in /usr/local/lib/python3.10/dist-packages (from tensorflow) (24.1)\n",
            "Requirement already satisfied: protobuf!=4.21.0,!=4.21.1,!=4.21.2,!=4.21.3,!=4.21.4,!=4.21.5,<5.0.0dev,>=3.20.3 in /usr/local/lib/python3.10/dist-packages (from tensorflow) (3.20.3)\n",
            "Requirement already satisfied: requests<3,>=2.21.0 in /usr/local/lib/python3.10/dist-packages (from tensorflow) (2.32.3)\n",
            "Requirement already satisfied: setuptools in /usr/local/lib/python3.10/dist-packages (from tensorflow) (71.0.4)\n",
            "Requirement already satisfied: six>=1.12.0 in /usr/local/lib/python3.10/dist-packages (from tensorflow) (1.16.0)\n",
            "Requirement already satisfied: termcolor>=1.1.0 in /usr/local/lib/python3.10/dist-packages (from tensorflow) (2.4.0)\n",
            "Requirement already satisfied: typing-extensions>=3.6.6 in /usr/local/lib/python3.10/dist-packages (from tensorflow) (4.12.2)\n",
            "Requirement already satisfied: wrapt>=1.11.0 in /usr/local/lib/python3.10/dist-packages (from tensorflow) (1.16.0)\n",
            "Requirement already satisfied: grpcio<2.0,>=1.24.3 in /usr/local/lib/python3.10/dist-packages (from tensorflow) (1.64.1)\n",
            "Requirement already satisfied: tensorboard<2.18,>=2.17 in /usr/local/lib/python3.10/dist-packages (from tensorflow) (2.17.0)\n",
            "Requirement already satisfied: keras>=3.2.0 in /usr/local/lib/python3.10/dist-packages (from tensorflow) (3.4.1)\n",
            "Requirement already satisfied: tensorflow-io-gcs-filesystem>=0.23.1 in /usr/local/lib/python3.10/dist-packages (from tensorflow) (0.37.1)\n",
            "Requirement already satisfied: scipy>=1.5.0 in /usr/local/lib/python3.10/dist-packages (from scikit-learn) (1.13.1)\n",
            "Requirement already satisfied: joblib>=1.1.1 in /usr/local/lib/python3.10/dist-packages (from scikit-learn) (1.4.2)\n",
            "Requirement already satisfied: threadpoolctl>=2.0.0 in /usr/local/lib/python3.10/dist-packages (from scikit-learn) (3.5.0)\n",
            "Requirement already satisfied: wheel<1.0,>=0.23.0 in /usr/local/lib/python3.10/dist-packages (from astunparse>=1.6.0->tensorflow) (0.44.0)\n",
            "Requirement already satisfied: rich in /usr/local/lib/python3.10/dist-packages (from keras>=3.2.0->tensorflow) (13.8.1)\n",
            "Requirement already satisfied: namex in /usr/local/lib/python3.10/dist-packages (from keras>=3.2.0->tensorflow) (0.0.8)\n",
            "Requirement already satisfied: optree in /usr/local/lib/python3.10/dist-packages (from keras>=3.2.0->tensorflow) (0.12.1)\n",
            "Requirement already satisfied: charset-normalizer<4,>=2 in /usr/local/lib/python3.10/dist-packages (from requests<3,>=2.21.0->tensorflow) (3.3.2)\n",
            "Requirement already satisfied: idna<4,>=2.5 in /usr/local/lib/python3.10/dist-packages (from requests<3,>=2.21.0->tensorflow) (3.8)\n",
            "Requirement already satisfied: urllib3<3,>=1.21.1 in /usr/local/lib/python3.10/dist-packages (from requests<3,>=2.21.0->tensorflow) (2.0.7)\n",
            "Requirement already satisfied: certifi>=2017.4.17 in /usr/local/lib/python3.10/dist-packages (from requests<3,>=2.21.0->tensorflow) (2024.8.30)\n",
            "Requirement already satisfied: markdown>=2.6.8 in /usr/local/lib/python3.10/dist-packages (from tensorboard<2.18,>=2.17->tensorflow) (3.7)\n",
            "Requirement already satisfied: tensorboard-data-server<0.8.0,>=0.7.0 in /usr/local/lib/python3.10/dist-packages (from tensorboard<2.18,>=2.17->tensorflow) (0.7.2)\n",
            "Requirement already satisfied: werkzeug>=1.0.1 in /usr/local/lib/python3.10/dist-packages (from tensorboard<2.18,>=2.17->tensorflow) (3.0.4)\n",
            "Requirement already satisfied: MarkupSafe>=2.1.1 in /usr/local/lib/python3.10/dist-packages (from werkzeug>=1.0.1->tensorboard<2.18,>=2.17->tensorflow) (2.1.5)\n",
            "Requirement already satisfied: markdown-it-py>=2.2.0 in /usr/local/lib/python3.10/dist-packages (from rich->keras>=3.2.0->tensorflow) (3.0.0)\n",
            "Requirement already satisfied: pygments<3.0.0,>=2.13.0 in /usr/local/lib/python3.10/dist-packages (from rich->keras>=3.2.0->tensorflow) (2.16.1)\n",
            "Requirement already satisfied: mdurl~=0.1 in /usr/local/lib/python3.10/dist-packages (from markdown-it-py>=2.2.0->rich->keras>=3.2.0->tensorflow) (0.1.2)\n",
            "Found existing installation: wandb 0.18.0\n",
            "Uninstalling wandb-0.18.0:\n",
            "  Successfully uninstalled wandb-0.18.0\n",
            "Collecting wandb\n",
            "  Using cached wandb-0.18.0-py3-none-manylinux_2_17_x86_64.manylinux2014_x86_64.whl.metadata (9.6 kB)\n",
            "Requirement already satisfied: click!=8.0.0,>=7.1 in /usr/local/lib/python3.10/dist-packages (from wandb) (8.1.7)\n",
            "Requirement already satisfied: docker-pycreds>=0.4.0 in /usr/local/lib/python3.10/dist-packages (from wandb) (0.4.0)\n",
            "Requirement already satisfied: gitpython!=3.1.29,>=1.0.0 in /usr/local/lib/python3.10/dist-packages (from wandb) (3.1.43)\n",
            "Requirement already satisfied: platformdirs in /usr/local/lib/python3.10/dist-packages (from wandb) (4.3.2)\n",
            "Requirement already satisfied: protobuf!=4.21.0,!=5.28.0,<6,>=3.19.0 in /usr/local/lib/python3.10/dist-packages (from wandb) (3.20.3)\n",
            "Requirement already satisfied: psutil>=5.0.0 in /usr/local/lib/python3.10/dist-packages (from wandb) (5.9.5)\n",
            "Requirement already satisfied: pyyaml in /usr/local/lib/python3.10/dist-packages (from wandb) (6.0.2)\n",
            "Requirement already satisfied: requests<3,>=2.0.0 in /usr/local/lib/python3.10/dist-packages (from wandb) (2.32.3)\n",
            "Requirement already satisfied: sentry-sdk>=1.0.0 in /usr/local/lib/python3.10/dist-packages (from wandb) (2.14.0)\n",
            "Requirement already satisfied: setproctitle in /usr/local/lib/python3.10/dist-packages (from wandb) (1.3.3)\n",
            "Requirement already satisfied: setuptools in /usr/local/lib/python3.10/dist-packages (from wandb) (71.0.4)\n",
            "Requirement already satisfied: six>=1.4.0 in /usr/local/lib/python3.10/dist-packages (from docker-pycreds>=0.4.0->wandb) (1.16.0)\n",
            "Requirement already satisfied: gitdb<5,>=4.0.1 in /usr/local/lib/python3.10/dist-packages (from gitpython!=3.1.29,>=1.0.0->wandb) (4.0.11)\n",
            "Requirement already satisfied: charset-normalizer<4,>=2 in /usr/local/lib/python3.10/dist-packages (from requests<3,>=2.0.0->wandb) (3.3.2)\n",
            "Requirement already satisfied: idna<4,>=2.5 in /usr/local/lib/python3.10/dist-packages (from requests<3,>=2.0.0->wandb) (3.8)\n",
            "Requirement already satisfied: urllib3<3,>=1.21.1 in /usr/local/lib/python3.10/dist-packages (from requests<3,>=2.0.0->wandb) (2.0.7)\n",
            "Requirement already satisfied: certifi>=2017.4.17 in /usr/local/lib/python3.10/dist-packages (from requests<3,>=2.0.0->wandb) (2024.8.30)\n",
            "Requirement already satisfied: smmap<6,>=3.0.1 in /usr/local/lib/python3.10/dist-packages (from gitdb<5,>=4.0.1->gitpython!=3.1.29,>=1.0.0->wandb) (5.0.1)\n",
            "Using cached wandb-0.18.0-py3-none-manylinux_2_17_x86_64.manylinux2014_x86_64.whl (9.5 MB)\n",
            "Installing collected packages: wandb\n",
            "Successfully installed wandb-0.18.0\n"
          ]
        }
      ]
    },
    {
      "cell_type": "code",
      "execution_count": 15,
      "metadata": {
        "id": "FjkEs34MPpJW"
      },
      "outputs": [],
      "source": [
        "import pandas as pd\n",
        "import numpy as np\n",
        "import tensorflow as tf\n",
        "from tensorflow.keras.models import Sequential\n",
        "from tensorflow.keras.layers import Dense, Input\n",
        "from sklearn.model_selection import train_test_split\n",
        "from sklearn.preprocessing import StandardScaler\n",
        "import wandb\n",
        "from wandb.keras import WandbCallback"
      ]
    },
    {
      "cell_type": "markdown",
      "source": [
        "# Prepare the data\n",
        "- Load dataset from CSV\n",
        "- clean unnecessary columns: 'LastName', 'FirstName', and 'PhoneNumber'\n",
        "- Separate features (X) and target (y)"
      ],
      "metadata": {
        "id": "z18g20pAQ8tq"
      }
    },
    {
      "cell_type": "code",
      "source": [
        "\n",
        "data = pd.read_csv('loaners-repayment-data.csv')\n",
        "\n",
        "data = data.drop(columns=['LastName', 'FirstName', 'PhoneNumber'])\n",
        "\n",
        "X = data[['Age', 'Income', 'DebtAmount', 'CreditScore', 'LoanDuration', 'MissedPayments']]\n",
        "y = data['Repay']\n"
      ],
      "metadata": {
        "id": "rTfshEeiQncv"
      },
      "execution_count": 17,
      "outputs": []
    },
    {
      "cell_type": "markdown",
      "source": [
        "# Split the data into training and testing sets"
      ],
      "metadata": {
        "id": "a3nhTwveRTLs"
      }
    },
    {
      "cell_type": "code",
      "source": [
        "\n",
        "X_train, X_test, y_train, y_test = train_test_split(X, y, test_size=0.2, random_state=42)\n"
      ],
      "metadata": {
        "id": "IHCfBAPeQ2oJ"
      },
      "execution_count": 18,
      "outputs": []
    },
    {
      "cell_type": "markdown",
      "source": [
        "# Normalize the input features"
      ],
      "metadata": {
        "id": "loujbZ2ERfSZ"
      }
    },
    {
      "cell_type": "code",
      "source": [
        "scaler = StandardScaler()\n",
        "X_train = scaler.fit_transform(X_train)\n",
        "X_test = scaler.transform(X_test)"
      ],
      "metadata": {
        "id": "o1LnN4IzRdWV"
      },
      "execution_count": 19,
      "outputs": []
    },
    {
      "cell_type": "markdown",
      "source": [
        "#Initialize Wandb"
      ],
      "metadata": {
        "id": "hEKdd02A0Ybb"
      }
    },
    {
      "cell_type": "code",
      "source": [
        "!wandb login"
      ],
      "metadata": {
        "colab": {
          "base_uri": "https://localhost:8080/"
        },
        "id": "lHPo4Ypl1Mcb",
        "outputId": "c76ffd68-17ed-4d4c-d7e5-d0c022d11804"
      },
      "execution_count": 20,
      "outputs": [
        {
          "output_type": "stream",
          "name": "stdout",
          "text": [
            "\u001b[34m\u001b[1mwandb\u001b[0m: Logging into wandb.ai. (Learn how to deploy a W&B server locally: https://wandb.me/wandb-server)\n",
            "\u001b[34m\u001b[1mwandb\u001b[0m: You can find your API key in your browser here: https://wandb.ai/authorize\n",
            "\u001b[34m\u001b[1mwandb\u001b[0m: Paste an API key from your profile and hit enter, or press ctrl+c to quit: \n",
            "\u001b[34m\u001b[1mwandb\u001b[0m: Appending key for api.wandb.ai to your netrc file: /root/.netrc\n"
          ]
        }
      ]
    },
    {
      "cell_type": "code",
      "source": [
        "wandb.init(project=\"Chapter5-loaners-repayment-data\", entity=\"yasno-llc\")"
      ],
      "metadata": {
        "colab": {
          "base_uri": "https://localhost:8080/",
          "height": 162
        },
        "id": "UQ0FlvXX0Xug",
        "outputId": "2741052f-ce07-4c8c-e26c-b3d2aaa7b48c"
      },
      "execution_count": 21,
      "outputs": [
        {
          "output_type": "stream",
          "name": "stderr",
          "text": [
            "\u001b[34m\u001b[1mwandb\u001b[0m: Using wandb-core as the SDK backend. Please refer to https://wandb.me/wandb-core for more information.\n",
            "\u001b[34m\u001b[1mwandb\u001b[0m: Currently logged in as: \u001b[33myasnosoft\u001b[0m (\u001b[33myasno-llc\u001b[0m). Use \u001b[1m`wandb login --relogin`\u001b[0m to force relogin\n"
          ]
        },
        {
          "output_type": "display_data",
          "data": {
            "text/plain": [
              "<IPython.core.display.HTML object>"
            ],
            "text/html": [
              "Tracking run with wandb version 0.18.0"
            ]
          },
          "metadata": {}
        },
        {
          "output_type": "display_data",
          "data": {
            "text/plain": [
              "<IPython.core.display.HTML object>"
            ],
            "text/html": [
              "Run data is saved locally in <code>/content/wandb/run-20240916_041513-b83vkgcu</code>"
            ]
          },
          "metadata": {}
        },
        {
          "output_type": "display_data",
          "data": {
            "text/plain": [
              "<IPython.core.display.HTML object>"
            ],
            "text/html": [
              "Syncing run <strong><a href='https://wandb.ai/yasno-llc/Chapter5-loaners-repayment-data/runs/b83vkgcu' target=\"_blank\">earnest-hill-1</a></strong> to <a href='https://wandb.ai/yasno-llc/Chapter5-loaners-repayment-data' target=\"_blank\">Weights & Biases</a> (<a href='https://wandb.me/run' target=\"_blank\">docs</a>)<br/>"
            ]
          },
          "metadata": {}
        },
        {
          "output_type": "display_data",
          "data": {
            "text/plain": [
              "<IPython.core.display.HTML object>"
            ],
            "text/html": [
              " View project at <a href='https://wandb.ai/yasno-llc/Chapter5-loaners-repayment-data' target=\"_blank\">https://wandb.ai/yasno-llc/Chapter5-loaners-repayment-data</a>"
            ]
          },
          "metadata": {}
        },
        {
          "output_type": "display_data",
          "data": {
            "text/plain": [
              "<IPython.core.display.HTML object>"
            ],
            "text/html": [
              " View run at <a href='https://wandb.ai/yasno-llc/Chapter5-loaners-repayment-data/runs/b83vkgcu' target=\"_blank\">https://wandb.ai/yasno-llc/Chapter5-loaners-repayment-data/runs/b83vkgcu</a>"
            ]
          },
          "metadata": {}
        },
        {
          "output_type": "execute_result",
          "data": {
            "text/html": [
              "<button onClick=\"this.nextSibling.style.display='block';this.style.display='none';\">Display W&B run</button><iframe src='https://wandb.ai/yasno-llc/Chapter5-loaners-repayment-data/runs/b83vkgcu?jupyter=true' style='border:none;width:100%;height:420px;display:none;'></iframe>"
            ],
            "text/plain": [
              "<wandb.sdk.wandb_run.Run at 0x7950568de0e0>"
            ]
          },
          "metadata": {},
          "execution_count": 21
        }
      ]
    },
    {
      "cell_type": "markdown",
      "source": [
        "# Build the neural network model"
      ],
      "metadata": {
        "id": "bxbIvFsbRnkh"
      }
    },
    {
      "cell_type": "code",
      "source": [
        "model = Sequential([\n",
        "    Input(shape=(X_train.shape[1],)),  # Input layer specifying the input shape\n",
        "    Dense(32, activation='relu'),      # First hidden layer with 32 neurons\n",
        "    Dense(64, activation='relu'),      # Second hidden layer with 64 neurons\n",
        "    Dense(1, activation='sigmoid')     # Output layer with 1 neuron (for binary classification)\n",
        "])"
      ],
      "metadata": {
        "id": "QPqO9GayRicN"
      },
      "execution_count": 22,
      "outputs": []
    },
    {
      "cell_type": "markdown",
      "source": [
        "# Compile the model"
      ],
      "metadata": {
        "id": "py6nH_Q9Rt5D"
      }
    },
    {
      "cell_type": "code",
      "source": [
        "model.compile(optimizer='adam', loss='binary_crossentropy', metrics=['accuracy'])"
      ],
      "metadata": {
        "id": "JF5eOFLFRsD5"
      },
      "execution_count": 23,
      "outputs": []
    },
    {
      "cell_type": "markdown",
      "source": [
        "# Train the model"
      ],
      "metadata": {
        "id": "YQx0zTTERyw1"
      }
    },
    {
      "cell_type": "code",
      "source": [
        "# Manually log metrics during training\n",
        "epochs = 50\n",
        "batch_size = 10\n",
        "for epoch in range(epochs):\n",
        "    # Train the model for one epoch\n",
        "    history = model.fit(X_train, y_train, epochs=1, batch_size=batch_size, verbose=0)\n",
        "\n",
        "    # Get training metrics\n",
        "    train_loss = history.history['loss'][0]\n",
        "    train_accuracy = history.history['accuracy'][0]\n",
        "\n",
        "    # Log training metrics to wandb\n",
        "    wandb.log({\"Epoch\": epoch + 1, \"Train Loss\": train_loss, \"Train Accuracy\": train_accuracy})\n",
        "\n",
        "    print(f'Epoch {epoch + 1}/{epochs} - Loss: {train_loss:.4f}, Accuracy: {train_accuracy:.4f}')\n"
      ],
      "metadata": {
        "colab": {
          "base_uri": "https://localhost:8080/"
        },
        "id": "mYO60HQ3Rvge",
        "outputId": "9bc10993-43cc-44bb-bd1a-29b2effafd7b"
      },
      "execution_count": 24,
      "outputs": [
        {
          "output_type": "stream",
          "name": "stdout",
          "text": [
            "Epoch 1/50 - Loss: 0.7000, Accuracy: 0.4688\n",
            "Epoch 2/50 - Loss: 0.6894, Accuracy: 0.5375\n",
            "Epoch 3/50 - Loss: 0.6832, Accuracy: 0.5688\n",
            "Epoch 4/50 - Loss: 0.6805, Accuracy: 0.5562\n",
            "Epoch 5/50 - Loss: 0.6714, Accuracy: 0.6000\n",
            "Epoch 6/50 - Loss: 0.6690, Accuracy: 0.6125\n",
            "Epoch 7/50 - Loss: 0.6673, Accuracy: 0.6125\n",
            "Epoch 8/50 - Loss: 0.6588, Accuracy: 0.6438\n",
            "Epoch 9/50 - Loss: 0.6578, Accuracy: 0.6438\n",
            "Epoch 10/50 - Loss: 0.6518, Accuracy: 0.6250\n",
            "Epoch 11/50 - Loss: 0.6479, Accuracy: 0.6187\n",
            "Epoch 12/50 - Loss: 0.6428, Accuracy: 0.6625\n",
            "Epoch 13/50 - Loss: 0.6378, Accuracy: 0.6500\n",
            "Epoch 14/50 - Loss: 0.6348, Accuracy: 0.6625\n",
            "Epoch 15/50 - Loss: 0.6294, Accuracy: 0.6562\n",
            "Epoch 16/50 - Loss: 0.6259, Accuracy: 0.6625\n",
            "Epoch 17/50 - Loss: 0.6209, Accuracy: 0.6750\n",
            "Epoch 18/50 - Loss: 0.6149, Accuracy: 0.6812\n",
            "Epoch 19/50 - Loss: 0.6099, Accuracy: 0.6938\n",
            "Epoch 20/50 - Loss: 0.6047, Accuracy: 0.6938\n",
            "Epoch 21/50 - Loss: 0.6006, Accuracy: 0.7063\n",
            "Epoch 22/50 - Loss: 0.5963, Accuracy: 0.6938\n",
            "Epoch 23/50 - Loss: 0.5932, Accuracy: 0.7250\n",
            "Epoch 24/50 - Loss: 0.5861, Accuracy: 0.7000\n",
            "Epoch 25/50 - Loss: 0.5824, Accuracy: 0.7125\n",
            "Epoch 26/50 - Loss: 0.5764, Accuracy: 0.7125\n",
            "Epoch 27/50 - Loss: 0.5739, Accuracy: 0.7125\n",
            "Epoch 28/50 - Loss: 0.5688, Accuracy: 0.7250\n",
            "Epoch 29/50 - Loss: 0.5631, Accuracy: 0.7063\n",
            "Epoch 30/50 - Loss: 0.5596, Accuracy: 0.7188\n",
            "Epoch 31/50 - Loss: 0.5528, Accuracy: 0.7250\n",
            "Epoch 32/50 - Loss: 0.5474, Accuracy: 0.7063\n",
            "Epoch 33/50 - Loss: 0.5440, Accuracy: 0.7500\n",
            "Epoch 34/50 - Loss: 0.5397, Accuracy: 0.7625\n",
            "Epoch 35/50 - Loss: 0.5358, Accuracy: 0.7437\n",
            "Epoch 36/50 - Loss: 0.5277, Accuracy: 0.7625\n",
            "Epoch 37/50 - Loss: 0.5222, Accuracy: 0.7625\n",
            "Epoch 38/50 - Loss: 0.5157, Accuracy: 0.7750\n",
            "Epoch 39/50 - Loss: 0.5138, Accuracy: 0.7625\n",
            "Epoch 40/50 - Loss: 0.5089, Accuracy: 0.7625\n",
            "Epoch 41/50 - Loss: 0.5036, Accuracy: 0.7688\n",
            "Epoch 42/50 - Loss: 0.4963, Accuracy: 0.7750\n",
            "Epoch 43/50 - Loss: 0.4904, Accuracy: 0.8125\n",
            "Epoch 44/50 - Loss: 0.4925, Accuracy: 0.7750\n",
            "Epoch 45/50 - Loss: 0.4807, Accuracy: 0.7937\n",
            "Epoch 46/50 - Loss: 0.4778, Accuracy: 0.8125\n",
            "Epoch 47/50 - Loss: 0.4723, Accuracy: 0.8000\n",
            "Epoch 48/50 - Loss: 0.4693, Accuracy: 0.7875\n",
            "Epoch 49/50 - Loss: 0.4597, Accuracy: 0.8062\n",
            "Epoch 50/50 - Loss: 0.4552, Accuracy: 0.8062\n"
          ]
        }
      ]
    },
    {
      "cell_type": "markdown",
      "source": [
        "# Evaluate the model on the test set"
      ],
      "metadata": {
        "id": "HicVD5hk1flQ"
      }
    },
    {
      "cell_type": "code",
      "source": [
        "\n",
        "test_loss, test_acc = model.evaluate(X_test, y_test)\n",
        "\n",
        "print(f'Test Accuracy: {test_acc}')\n",
        "\n",
        "# Log the final test accuracy to wandb\n",
        "wandb.log({\"Test Accuracy\": test_acc})"
      ],
      "metadata": {
        "colab": {
          "base_uri": "https://localhost:8080/"
        },
        "id": "fIrDAQJx1fQj",
        "outputId": "78cd0993-7ac8-47a9-d1d2-cbf740893454"
      },
      "execution_count": 25,
      "outputs": [
        {
          "output_type": "stream",
          "name": "stdout",
          "text": [
            "\u001b[1m2/2\u001b[0m \u001b[32m━━━━━━━━━━━━━━━━━━━━\u001b[0m\u001b[37m\u001b[0m \u001b[1m0s\u001b[0m 11ms/step - accuracy: 0.5271 - loss: 0.8362 \n",
            "Test Accuracy: 0.5249999761581421\n"
          ]
        }
      ]
    }
  ]
}