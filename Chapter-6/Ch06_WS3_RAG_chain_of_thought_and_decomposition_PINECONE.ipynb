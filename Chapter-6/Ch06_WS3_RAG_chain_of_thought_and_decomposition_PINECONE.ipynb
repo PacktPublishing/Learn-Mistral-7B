{
  "cells": [
    {
      "cell_type": "markdown",
      "source": [
        "## Environment Setup"
      ],
      "metadata": {
        "id": "Joq7ORdChec4"
      },
      "id": "Joq7ORdChec4"
    },
    {
      "cell_type": "code",
      "execution_count": null,
      "id": "df89be8f-2c49-4f4f-9503-2bff0b08a67a",
      "metadata": {
        "id": "df89be8f-2c49-4f4f-9503-2bff0b08a67a",
        "colab": {
          "base_uri": "https://localhost:8080/"
        },
        "collapsed": true,
        "outputId": "c92741e4-ec5e-4e88-a1ac-a66e1c9c084f"
      },
      "outputs": [
        {
          "output_type": "stream",
          "name": "stdout",
          "text": [
            "Collecting langchain_community\n",
            "  Downloading langchain_community-0.3.5-py3-none-any.whl.metadata (2.9 kB)\n",
            "Collecting langchain_mistralai\n",
            "  Downloading langchain_mistralai-0.2.1-py3-none-any.whl.metadata (2.4 kB)\n",
            "Collecting langchainhub\n",
            "  Downloading langchainhub-0.1.21-py3-none-any.whl.metadata (659 bytes)\n",
            "Requirement already satisfied: langchain in /usr/local/lib/python3.10/dist-packages (0.3.7)\n",
            "Collecting tiktoken\n",
            "  Downloading tiktoken-0.8.0-cp310-cp310-manylinux_2_17_x86_64.manylinux2014_x86_64.whl.metadata (6.6 kB)\n",
            "Collecting langchain_pinecone\n",
            "  Downloading langchain_pinecone-0.2.0-py3-none-any.whl.metadata (1.7 kB)\n",
            "Requirement already satisfied: PyYAML>=5.3 in /usr/local/lib/python3.10/dist-packages (from langchain_community) (6.0.2)\n",
            "Collecting SQLAlchemy<2.0.36,>=1.4 (from langchain_community)\n",
            "  Downloading SQLAlchemy-2.0.35-cp310-cp310-manylinux_2_17_x86_64.manylinux2014_x86_64.whl.metadata (9.6 kB)\n",
            "Requirement already satisfied: aiohttp<4.0.0,>=3.8.3 in /usr/local/lib/python3.10/dist-packages (from langchain_community) (3.10.10)\n",
            "Collecting dataclasses-json<0.7,>=0.5.7 (from langchain_community)\n",
            "  Downloading dataclasses_json-0.6.7-py3-none-any.whl.metadata (25 kB)\n",
            "Collecting httpx-sse<0.5.0,>=0.4.0 (from langchain_community)\n",
            "  Downloading httpx_sse-0.4.0-py3-none-any.whl.metadata (9.0 kB)\n",
            "Requirement already satisfied: langchain-core<0.4.0,>=0.3.15 in /usr/local/lib/python3.10/dist-packages (from langchain_community) (0.3.15)\n",
            "Requirement already satisfied: langsmith<0.2.0,>=0.1.125 in /usr/local/lib/python3.10/dist-packages (from langchain_community) (0.1.139)\n",
            "Requirement already satisfied: numpy<2,>=1 in /usr/local/lib/python3.10/dist-packages (from langchain_community) (1.26.4)\n",
            "Collecting pydantic-settings<3.0.0,>=2.4.0 (from langchain_community)\n",
            "  Downloading pydantic_settings-2.6.1-py3-none-any.whl.metadata (3.5 kB)\n",
            "Requirement already satisfied: requests<3,>=2 in /usr/local/lib/python3.10/dist-packages (from langchain_community) (2.32.3)\n",
            "Requirement already satisfied: tenacity!=8.4.0,<10,>=8.1.0 in /usr/local/lib/python3.10/dist-packages (from langchain_community) (9.0.0)\n",
            "Requirement already satisfied: httpx<1,>=0.25.2 in /usr/local/lib/python3.10/dist-packages (from langchain_mistralai) (0.27.2)\n",
            "Requirement already satisfied: pydantic<3,>=2 in /usr/local/lib/python3.10/dist-packages (from langchain_mistralai) (2.9.2)\n",
            "Requirement already satisfied: tokenizers<1,>=0.15.1 in /usr/local/lib/python3.10/dist-packages (from langchain_mistralai) (0.19.1)\n",
            "Requirement already satisfied: packaging<25,>=23.2 in /usr/local/lib/python3.10/dist-packages (from langchainhub) (24.1)\n",
            "Collecting types-requests<3.0.0.0,>=2.31.0.2 (from langchainhub)\n",
            "  Downloading types_requests-2.32.0.20241016-py3-none-any.whl.metadata (1.9 kB)\n",
            "Requirement already satisfied: async-timeout<5.0.0,>=4.0.0 in /usr/local/lib/python3.10/dist-packages (from langchain) (4.0.3)\n",
            "Requirement already satisfied: langchain-text-splitters<0.4.0,>=0.3.0 in /usr/local/lib/python3.10/dist-packages (from langchain) (0.3.2)\n",
            "Requirement already satisfied: regex>=2022.1.18 in /usr/local/lib/python3.10/dist-packages (from tiktoken) (2024.9.11)\n",
            "Collecting aiohttp<4.0.0,>=3.8.3 (from langchain_community)\n",
            "  Downloading aiohttp-3.9.5-cp310-cp310-manylinux_2_17_x86_64.manylinux2014_x86_64.whl.metadata (7.5 kB)\n",
            "Collecting pinecone-client<6.0.0,>=5.0.0 (from langchain_pinecone)\n",
            "  Downloading pinecone_client-5.0.1-py3-none-any.whl.metadata (19 kB)\n",
            "Requirement already satisfied: aiosignal>=1.1.2 in /usr/local/lib/python3.10/dist-packages (from aiohttp<4.0.0,>=3.8.3->langchain_community) (1.3.1)\n",
            "Requirement already satisfied: attrs>=17.3.0 in /usr/local/lib/python3.10/dist-packages (from aiohttp<4.0.0,>=3.8.3->langchain_community) (24.2.0)\n",
            "Requirement already satisfied: frozenlist>=1.1.1 in /usr/local/lib/python3.10/dist-packages (from aiohttp<4.0.0,>=3.8.3->langchain_community) (1.5.0)\n",
            "Requirement already satisfied: multidict<7.0,>=4.5 in /usr/local/lib/python3.10/dist-packages (from aiohttp<4.0.0,>=3.8.3->langchain_community) (6.1.0)\n",
            "Requirement already satisfied: yarl<2.0,>=1.0 in /usr/local/lib/python3.10/dist-packages (from aiohttp<4.0.0,>=3.8.3->langchain_community) (1.17.1)\n",
            "Collecting marshmallow<4.0.0,>=3.18.0 (from dataclasses-json<0.7,>=0.5.7->langchain_community)\n",
            "  Downloading marshmallow-3.23.1-py3-none-any.whl.metadata (7.5 kB)\n",
            "Collecting typing-inspect<1,>=0.4.0 (from dataclasses-json<0.7,>=0.5.7->langchain_community)\n",
            "  Downloading typing_inspect-0.9.0-py3-none-any.whl.metadata (1.5 kB)\n",
            "Requirement already satisfied: anyio in /usr/local/lib/python3.10/dist-packages (from httpx<1,>=0.25.2->langchain_mistralai) (3.7.1)\n",
            "Requirement already satisfied: certifi in /usr/local/lib/python3.10/dist-packages (from httpx<1,>=0.25.2->langchain_mistralai) (2024.8.30)\n",
            "Requirement already satisfied: httpcore==1.* in /usr/local/lib/python3.10/dist-packages (from httpx<1,>=0.25.2->langchain_mistralai) (1.0.6)\n",
            "Requirement already satisfied: idna in /usr/local/lib/python3.10/dist-packages (from httpx<1,>=0.25.2->langchain_mistralai) (3.10)\n",
            "Requirement already satisfied: sniffio in /usr/local/lib/python3.10/dist-packages (from httpx<1,>=0.25.2->langchain_mistralai) (1.3.1)\n",
            "Requirement already satisfied: h11<0.15,>=0.13 in /usr/local/lib/python3.10/dist-packages (from httpcore==1.*->httpx<1,>=0.25.2->langchain_mistralai) (0.14.0)\n",
            "Requirement already satisfied: jsonpatch<2.0,>=1.33 in /usr/local/lib/python3.10/dist-packages (from langchain-core<0.4.0,>=0.3.15->langchain_community) (1.33)\n",
            "Requirement already satisfied: typing-extensions>=4.7 in /usr/local/lib/python3.10/dist-packages (from langchain-core<0.4.0,>=0.3.15->langchain_community) (4.12.2)\n",
            "Requirement already satisfied: orjson<4.0.0,>=3.9.14 in /usr/local/lib/python3.10/dist-packages (from langsmith<0.2.0,>=0.1.125->langchain_community) (3.10.11)\n",
            "Requirement already satisfied: requests-toolbelt<2.0.0,>=1.0.0 in /usr/local/lib/python3.10/dist-packages (from langsmith<0.2.0,>=0.1.125->langchain_community) (1.0.0)\n",
            "Collecting pinecone-plugin-inference<2.0.0,>=1.0.3 (from pinecone-client<6.0.0,>=5.0.0->langchain_pinecone)\n",
            "  Downloading pinecone_plugin_inference-1.1.0-py3-none-any.whl.metadata (2.2 kB)\n",
            "Collecting pinecone-plugin-interface<0.0.8,>=0.0.7 (from pinecone-client<6.0.0,>=5.0.0->langchain_pinecone)\n",
            "  Downloading pinecone_plugin_interface-0.0.7-py3-none-any.whl.metadata (1.2 kB)\n",
            "Requirement already satisfied: tqdm>=4.64.1 in /usr/local/lib/python3.10/dist-packages (from pinecone-client<6.0.0,>=5.0.0->langchain_pinecone) (4.66.6)\n",
            "Requirement already satisfied: urllib3>=1.26.0 in /usr/local/lib/python3.10/dist-packages (from pinecone-client<6.0.0,>=5.0.0->langchain_pinecone) (2.2.3)\n",
            "Requirement already satisfied: annotated-types>=0.6.0 in /usr/local/lib/python3.10/dist-packages (from pydantic<3,>=2->langchain_mistralai) (0.7.0)\n",
            "Requirement already satisfied: pydantic-core==2.23.4 in /usr/local/lib/python3.10/dist-packages (from pydantic<3,>=2->langchain_mistralai) (2.23.4)\n",
            "Collecting python-dotenv>=0.21.0 (from pydantic-settings<3.0.0,>=2.4.0->langchain_community)\n",
            "  Downloading python_dotenv-1.0.1-py3-none-any.whl.metadata (23 kB)\n",
            "Requirement already satisfied: charset-normalizer<4,>=2 in /usr/local/lib/python3.10/dist-packages (from requests<3,>=2->langchain_community) (3.4.0)\n",
            "Requirement already satisfied: greenlet!=0.4.17 in /usr/local/lib/python3.10/dist-packages (from SQLAlchemy<2.0.36,>=1.4->langchain_community) (3.1.1)\n",
            "Requirement already satisfied: huggingface-hub<1.0,>=0.16.4 in /usr/local/lib/python3.10/dist-packages (from tokenizers<1,>=0.15.1->langchain_mistralai) (0.24.7)\n",
            "Requirement already satisfied: filelock in /usr/local/lib/python3.10/dist-packages (from huggingface-hub<1.0,>=0.16.4->tokenizers<1,>=0.15.1->langchain_mistralai) (3.16.1)\n",
            "Requirement already satisfied: fsspec>=2023.5.0 in /usr/local/lib/python3.10/dist-packages (from huggingface-hub<1.0,>=0.16.4->tokenizers<1,>=0.15.1->langchain_mistralai) (2024.10.0)\n",
            "Requirement already satisfied: jsonpointer>=1.9 in /usr/local/lib/python3.10/dist-packages (from jsonpatch<2.0,>=1.33->langchain-core<0.4.0,>=0.3.15->langchain_community) (3.0.0)\n",
            "Collecting mypy-extensions>=0.3.0 (from typing-inspect<1,>=0.4.0->dataclasses-json<0.7,>=0.5.7->langchain_community)\n",
            "  Downloading mypy_extensions-1.0.0-py3-none-any.whl.metadata (1.1 kB)\n",
            "Requirement already satisfied: propcache>=0.2.0 in /usr/local/lib/python3.10/dist-packages (from yarl<2.0,>=1.0->aiohttp<4.0.0,>=3.8.3->langchain_community) (0.2.0)\n",
            "Requirement already satisfied: exceptiongroup in /usr/local/lib/python3.10/dist-packages (from anyio->httpx<1,>=0.25.2->langchain_mistralai) (1.2.2)\n",
            "Downloading langchain_community-0.3.5-py3-none-any.whl (2.4 MB)\n",
            "\u001b[2K   \u001b[90m━━━━━━━━━━━━━━━━━━━━━━━━━━━━━━━━━━━━━━━━\u001b[0m \u001b[32m2.4/2.4 MB\u001b[0m \u001b[31m45.0 MB/s\u001b[0m eta \u001b[36m0:00:00\u001b[0m\n",
            "\u001b[?25hDownloading langchain_mistralai-0.2.1-py3-none-any.whl (14 kB)\n",
            "Downloading langchainhub-0.1.21-py3-none-any.whl (5.2 kB)\n",
            "Downloading tiktoken-0.8.0-cp310-cp310-manylinux_2_17_x86_64.manylinux2014_x86_64.whl (1.2 MB)\n",
            "\u001b[2K   \u001b[90m━━━━━━━━━━━━━━━━━━━━━━━━━━━━━━━━━━━━━━━━\u001b[0m \u001b[32m1.2/1.2 MB\u001b[0m \u001b[31m50.4 MB/s\u001b[0m eta \u001b[36m0:00:00\u001b[0m\n",
            "\u001b[?25hDownloading langchain_pinecone-0.2.0-py3-none-any.whl (11 kB)\n",
            "Downloading aiohttp-3.9.5-cp310-cp310-manylinux_2_17_x86_64.manylinux2014_x86_64.whl (1.2 MB)\n",
            "\u001b[2K   \u001b[90m━━━━━━━━━━━━━━━━━━━━━━━━━━━━━━━━━━━━━━━━\u001b[0m \u001b[32m1.2/1.2 MB\u001b[0m \u001b[31m53.5 MB/s\u001b[0m eta \u001b[36m0:00:00\u001b[0m\n",
            "\u001b[?25hDownloading dataclasses_json-0.6.7-py3-none-any.whl (28 kB)\n",
            "Downloading httpx_sse-0.4.0-py3-none-any.whl (7.8 kB)\n",
            "Downloading pinecone_client-5.0.1-py3-none-any.whl (244 kB)\n",
            "\u001b[2K   \u001b[90m━━━━━━━━━━━━━━━━━━━━━━━━━━━━━━━━━━━━━━━━\u001b[0m \u001b[32m244.8/244.8 kB\u001b[0m \u001b[31m16.7 MB/s\u001b[0m eta \u001b[36m0:00:00\u001b[0m\n",
            "\u001b[?25hDownloading pydantic_settings-2.6.1-py3-none-any.whl (28 kB)\n",
            "Downloading SQLAlchemy-2.0.35-cp310-cp310-manylinux_2_17_x86_64.manylinux2014_x86_64.whl (3.1 MB)\n",
            "\u001b[2K   \u001b[90m━━━━━━━━━━━━━━━━━━━━━━━━━━━━━━━━━━━━━━━━\u001b[0m \u001b[32m3.1/3.1 MB\u001b[0m \u001b[31m54.5 MB/s\u001b[0m eta \u001b[36m0:00:00\u001b[0m\n",
            "\u001b[?25hDownloading types_requests-2.32.0.20241016-py3-none-any.whl (15 kB)\n",
            "Downloading marshmallow-3.23.1-py3-none-any.whl (49 kB)\n",
            "\u001b[2K   \u001b[90m━━━━━━━━━━━━━━━━━━━━━━━━━━━━━━━━━━━━━━━━\u001b[0m \u001b[32m49.5/49.5 kB\u001b[0m \u001b[31m3.6 MB/s\u001b[0m eta \u001b[36m0:00:00\u001b[0m\n",
            "\u001b[?25hDownloading pinecone_plugin_inference-1.1.0-py3-none-any.whl (85 kB)\n",
            "\u001b[2K   \u001b[90m━━━━━━━━━━━━━━━━━━━━━━━━━━━━━━━━━━━━━━━━\u001b[0m \u001b[32m85.4/85.4 kB\u001b[0m \u001b[31m6.4 MB/s\u001b[0m eta \u001b[36m0:00:00\u001b[0m\n",
            "\u001b[?25hDownloading pinecone_plugin_interface-0.0.7-py3-none-any.whl (6.2 kB)\n",
            "Downloading python_dotenv-1.0.1-py3-none-any.whl (19 kB)\n",
            "Downloading typing_inspect-0.9.0-py3-none-any.whl (8.8 kB)\n",
            "Downloading mypy_extensions-1.0.0-py3-none-any.whl (4.7 kB)\n",
            "Installing collected packages: types-requests, SQLAlchemy, python-dotenv, pinecone-plugin-interface, mypy-extensions, marshmallow, httpx-sse, typing-inspect, tiktoken, pinecone-plugin-inference, langchainhub, pydantic-settings, pinecone-client, dataclasses-json, aiohttp, langchain_pinecone, langchain_mistralai, langchain_community\n",
            "  Attempting uninstall: SQLAlchemy\n",
            "    Found existing installation: SQLAlchemy 2.0.36\n",
            "    Uninstalling SQLAlchemy-2.0.36:\n",
            "      Successfully uninstalled SQLAlchemy-2.0.36\n",
            "  Attempting uninstall: aiohttp\n",
            "    Found existing installation: aiohttp 3.10.10\n",
            "    Uninstalling aiohttp-3.10.10:\n",
            "      Successfully uninstalled aiohttp-3.10.10\n",
            "Successfully installed SQLAlchemy-2.0.35 aiohttp-3.9.5 dataclasses-json-0.6.7 httpx-sse-0.4.0 langchain_community-0.3.5 langchain_mistralai-0.2.1 langchain_pinecone-0.2.0 langchainhub-0.1.21 marshmallow-3.23.1 mypy-extensions-1.0.0 pinecone-client-5.0.1 pinecone-plugin-inference-1.1.0 pinecone-plugin-interface-0.0.7 pydantic-settings-2.6.1 python-dotenv-1.0.1 tiktoken-0.8.0 types-requests-2.32.0.20241016 typing-inspect-0.9.0\n"
          ]
        }
      ],
      "source": [
        "! pip install langchain_community langchain_mistralai langchainhub langchain tiktoken langchain_pinecone"
      ]
    },
    {
      "cell_type": "code",
      "execution_count": null,
      "id": "5258de38-0cc0-4d9d-a5ca-6e750ebe6976",
      "metadata": {
        "id": "5258de38-0cc0-4d9d-a5ca-6e750ebe6976"
      },
      "outputs": [],
      "source": [
        "import os\n",
        "os.environ['LANGCHAIN_TRACING_V2'] = 'true'\n",
        "os.environ['LANGCHAIN_ENDPOINT'] = 'https://api.smith.langchain.com'\n",
        "os.environ['LANGCHAIN_API_KEY'] = '<your key goes here>'\n",
        "os.environ['MISTRAL_API_KEY'] = '<your key goes here>'\n",
        "os.environ['PINECONE_API_KEY'] = '<your key goes here>'\n"
      ]
    },
    {
      "cell_type": "code",
      "source": [
        "questions = [ \"What does Moby Dick say about humanity's struggle against nature?\",\n",
        "              \"How does Moby Dick explore the theme of obsession through Ahab's quest?\",\n",
        "              \"How is Captain Ahab portrayed as both a hero and a villain in Moby Dick?\",\n",
        "              # \"What motivates Ishmael to join the Pequod, and how does he change throughout the novel?\",\n",
        "              # \"What does the white whale symbolize in Moby Dick, and how does it relate to Ahab's obsession?\",\n",
        "              # \"How does the novel Moby Dick use the ocean as a symbol of the unknown?\",\n",
        "              # \"How does Melville’s narrative style in Moby Dick contribute to the sense of adventure and mystery?\",\n",
        "              # \"How does Ishmael’s perspective shape the reader’s understanding of the story in Moby Dick?\",\n",
        "              # \"How does Moby Dick reflect 19th-century views on fate and destiny?\",\n",
        "              # \"What philosophical questions does Melville raise about human existence and purpose in Moby Dick?\",\n",
        "              # \"How does Melville use imagery to depict the sea as both beautiful and terrifying in Moby Dick?\",\n",
        "              # \"How does Moby Dick describe the vastness and danger of the open sea?\",\n",
        "              # \"What moral dilemmas do the crew members face in Moby Dick?\",\n",
        "              # \"How does Moby Dick present Ahab's pursuit of revenge as both justified and self-destructive?\"\n",
        "              ]\n",
        "\n",
        "question = questions[0]"
      ],
      "metadata": {
        "id": "ewAi5bmohmgP"
      },
      "id": "ewAi5bmohmgP",
      "execution_count": null,
      "outputs": []
    },
    {
      "cell_type": "markdown",
      "source": [
        "## Indexing"
      ],
      "metadata": {
        "id": "tKuokc8HizW8"
      },
      "id": "tKuokc8HizW8"
    },
    {
      "cell_type": "code",
      "source": [
        "from langchain_community.document_loaders import WebBaseLoader\n",
        "# there can be mulitple urls\n",
        "loader = WebBaseLoader(\"https://www.gutenberg.org/cache/epub/2701/pg2701.txt\")\n",
        "books = loader.load()"
      ],
      "metadata": {
        "colab": {
          "base_uri": "https://localhost:8080/"
        },
        "id": "LXOKovlBi2UT",
        "outputId": "3ac3291c-d319-417b-83fe-fa9a2fa2102a"
      },
      "id": "LXOKovlBi2UT",
      "execution_count": null,
      "outputs": [
        {
          "output_type": "stream",
          "name": "stderr",
          "text": [
            "WARNING:langchain_community.utils.user_agent:USER_AGENT environment variable not set, consider setting it to identify your requests.\n"
          ]
        }
      ]
    },
    {
      "cell_type": "markdown",
      "source": [
        "### Splitting the text"
      ],
      "metadata": {
        "id": "pA3RMwUVi_LC"
      },
      "id": "pA3RMwUVi_LC"
    },
    {
      "cell_type": "code",
      "source": [
        "from langchain.text_splitter import RecursiveCharacterTextSplitter\n",
        "text_splitter = RecursiveCharacterTextSplitter.from_tiktoken_encoder(\n",
        "    chunk_size=300,\n",
        "    chunk_overlap=50)\n",
        "\n",
        "# Make splits\n",
        "splits = text_splitter.split_documents(books)\n",
        "len(splits)"
      ],
      "metadata": {
        "colab": {
          "base_uri": "https://localhost:8080/"
        },
        "id": "xKrm-uRXi6Y-",
        "outputId": "51bf1b96-8727-4fe7-d366-994aa1ac902c"
      },
      "id": "xKrm-uRXi6Y-",
      "execution_count": null,
      "outputs": [
        {
          "output_type": "execute_result",
          "data": {
            "text/plain": [
              "1412"
            ]
          },
          "metadata": {},
          "execution_count": 6
        }
      ]
    },
    {
      "cell_type": "markdown",
      "source": [
        "\n",
        "### vectorize chunks"
      ],
      "metadata": {
        "id": "1XG7zsLSjG2k"
      },
      "id": "1XG7zsLSjG2k"
    },
    {
      "cell_type": "code",
      "source": [
        "from langchain_mistralai import MistralAIEmbeddings\n",
        "from langchain_community.vectorstores import Pinecone\n",
        "\n",
        "vectorstore = Pinecone.from_documents(\n",
        "                                            index_name = 'book-passages',\n",
        "                                            documents = splits,\n",
        "                                            embedding = MistralAIEmbeddings())"
      ],
      "metadata": {
        "colab": {
          "base_uri": "https://localhost:8080/"
        },
        "id": "lJDCT94ejLMk",
        "outputId": "be6ecf63-f2b6-4c65-f050-de9475e7aec1"
      },
      "id": "lJDCT94ejLMk",
      "execution_count": null,
      "outputs": [
        {
          "output_type": "stream",
          "name": "stderr",
          "text": [
            "/usr/local/lib/python3.10/dist-packages/huggingface_hub/utils/_token.py:89: UserWarning: \n",
            "The secret `HF_TOKEN` does not exist in your Colab secrets.\n",
            "To authenticate with the Hugging Face Hub, create a token in your settings tab (https://huggingface.co/settings/tokens), set it as secret in your Google Colab and restart your session.\n",
            "You will be able to reuse this secret in all of your notebooks.\n",
            "Please note that authentication is recommended but still optional to access public models or datasets.\n",
            "  warnings.warn(\n",
            "/usr/local/lib/python3.10/dist-packages/langchain_mistralai/embeddings.py:169: UserWarning: Could not download mistral tokenizer from Huggingface for calculating batch sizes. Set a Huggingface token via the HF_TOKEN environment variable to download the real tokenizer. Falling back to a dummy tokenizer that uses `len()`.\n",
            "  warnings.warn(\n"
          ]
        }
      ]
    },
    {
      "cell_type": "markdown",
      "source": [
        "## Retrieval"
      ],
      "metadata": {
        "id": "r6StrW5PjUFe"
      },
      "id": "r6StrW5PjUFe"
    },
    {
      "cell_type": "markdown",
      "source": [
        "### Init Retriever"
      ],
      "metadata": {
        "id": "DDBVswV-jfcj"
      },
      "id": "DDBVswV-jfcj"
    },
    {
      "cell_type": "code",
      "source": [
        "retriever = vectorstore.as_retriever(search_kwargs={\"k\": 1})"
      ],
      "metadata": {
        "id": "Hfav_yuTjSpm"
      },
      "id": "Hfav_yuTjSpm",
      "execution_count": null,
      "outputs": []
    },
    {
      "cell_type": "markdown",
      "id": "76f1b6c5-faa9-404b-90c6-22d3b40169fa",
      "metadata": {
        "id": "76f1b6c5-faa9-404b-90c6-22d3b40169fa"
      },
      "source": [
        "### Sub-questions Prompt"
      ]
    },
    {
      "cell_type": "code",
      "execution_count": null,
      "id": "965de464-0c98-4318-9f9e-f8a597c8d5d6",
      "metadata": {
        "id": "965de464-0c98-4318-9f9e-f8a597c8d5d6"
      },
      "outputs": [],
      "source": [
        "from langchain.prompts import ChatPromptTemplate\n",
        "\n",
        "# Multi Query: Different Perspectives\n",
        "template = \"\"\"You are a helpful assistant designed to generate multiple sub-questions related to an input question.\n",
        "Your goal is to break down the main question into distinct sub-problems that can be answered individually.\n",
        "Generate three related search queries based on: {question} and output each query on a new line.\"\"\"\n",
        "prompt_perspectives = ChatPromptTemplate.from_template(template)\n",
        "\n",
        "from langchain_core.output_parsers import StrOutputParser\n",
        "from langchain_mistralai import ChatMistralAI\n",
        "\n",
        "generate_queries = (\n",
        "    prompt_perspectives\n",
        "    | ChatMistralAI(temperature=0)\n",
        "    | StrOutputParser()\n",
        "    | (lambda x: x.split(\"\\n\"))\n",
        ")"
      ]
    },
    {
      "cell_type": "markdown",
      "source": [
        "### Output original questions and their detailized sub-questions"
      ],
      "metadata": {
        "id": "VB1ZfXSjyQrA"
      },
      "id": "VB1ZfXSjyQrA"
    },
    {
      "cell_type": "code",
      "source": [
        "for question in questions:\n",
        "    print(\"-------------\")\n",
        "    print(question)\n",
        "    sub_problems = generate_queries.invoke({\"question\":question})\n",
        "    for sub_problem in sub_problems:\n",
        "        print(\"\\t\"+sub_problem)"
      ],
      "metadata": {
        "colab": {
          "base_uri": "https://localhost:8080/"
        },
        "id": "iTjaQ_4bnY5t",
        "outputId": "5cee947a-5019-4e01-f9e8-a276a5f83fe2"
      },
      "id": "iTjaQ_4bnY5t",
      "execution_count": null,
      "outputs": [
        {
          "output_type": "stream",
          "name": "stdout",
          "text": [
            "-------------\n",
            "What does Moby Dick say about humanity's struggle against nature?\n",
            "\t1. \"Themes of Moby Dick related to human struggle with nature\"\n",
            "\t2. \"Analysis of Moby Dick's portrayal of man versus nature\"\n",
            "\t3. \"Interpretations of the novel Moby Dick on the conflict between humanity and nature\"\n",
            "-------------\n",
            "How does Moby Dick explore the theme of obsession through Ahab's quest?\n",
            "\t1. \"Depiction of obsession in Moby Dick through Ahab's character\"\n",
            "\t2. \"Analysis of Ahab's quest as a representation of obsession in Moby Dick\"\n",
            "\t3. \"Exploration of the theme of obsession in Moby Dick's narrative arc of Captain Ahab\"\n",
            "-------------\n",
            "How is Captain Ahab portrayed as both a hero and a villain in Moby Dick?\n",
            "\t1. \"Depiction of Captain Ahab as a hero in Moby Dick\"\n",
            "\t2. \"Captain Ahab's villainous characteristics in Moby Dick\"\n",
            "\t3. \"Balancing of hero and villain traits in Captain Ahab's character in Moby Dick\"\n"
          ]
        }
      ]
    },
    {
      "cell_type": "code",
      "execution_count": null,
      "id": "4f253520-386f-434b-8daa-d6dadb89eddb",
      "metadata": {
        "id": "4f253520-386f-434b-8daa-d6dadb89eddb",
        "colab": {
          "base_uri": "https://localhost:8080/"
        },
        "outputId": "522caf02-fc78-4a53-9a50-a639c05ec088"
      },
      "outputs": [
        {
          "output_type": "stream",
          "name": "stderr",
          "text": [
            "<ipython-input-11-73df1d0ee15a>:10: LangChainBetaWarning: The function `loads` is in beta. It is actively being worked on, so the API may change.\n",
            "  return [loads(doc) for doc in unique_docs]\n"
          ]
        },
        {
          "output_type": "execute_result",
          "data": {
            "text/plain": [
              "1"
            ]
          },
          "metadata": {},
          "execution_count": 11
        }
      ],
      "source": [
        "from langchain.load import dumps, loads\n",
        "\n",
        "def get_unique_union(documents: list[list]):\n",
        "    \"\"\" Unique union of retrieved docs \"\"\"\n",
        "    # Flatten list of lists, and convert each Document to string\n",
        "    flattened_docs = [dumps(doc) for sublist in documents for doc in sublist]\n",
        "    # Get unique documents\n",
        "    unique_docs = list(set(flattened_docs))\n",
        "    # Return\n",
        "    return [loads(doc) for doc in unique_docs]\n",
        "\n",
        "# Retrieve\n",
        "\n",
        "retrieval_chain = generate_queries | retriever.map() | get_unique_union\n",
        "docs = retrieval_chain.invoke({\"question\":question})\n",
        "len(docs)"
      ]
    },
    {
      "cell_type": "markdown",
      "source": [
        "# Generation"
      ],
      "metadata": {
        "id": "dQtKADFvxzNP"
      },
      "id": "dQtKADFvxzNP"
    },
    {
      "cell_type": "code",
      "execution_count": null,
      "id": "af6e74e8-ddae-4165-9e4b-0022ac125194",
      "metadata": {
        "id": "af6e74e8-ddae-4165-9e4b-0022ac125194",
        "colab": {
          "base_uri": "https://localhost:8080/"
        },
        "outputId": "c85e6868-ebbf-444e-cd49-95c1165a5085"
      },
      "outputs": [
        {
          "output_type": "stream",
          "name": "stdout",
          "text": [
            "-------------\n",
            "What does Moby Dick say about humanity's struggle against nature?\n",
            "\t1. \"Themes of Moby Dick related to human struggle with nature\"\n",
            "\t2. \"Analysis of Moby Dick's portrayal of man versus nature\"\n",
            "\t3. \"Interpretations of the novel Moby Dick on the conflict between humanity and nature\"\n",
            "\n",
            "Answer: \n",
            "The text suggests that humanity's struggle against nature, as represented by the white whale Moby Dick, is a complex and multifaceted endeavor. On one hand, the whale is seen as a formidable and dangerous force, inspiring fear and hatred in those who encounter it. This is exemplified by Ahab's obsession with hunting down the whale, which he sees as the embodiment of all that is evil and destructive.\n",
            "\n",
            "On the other hand, the text also suggests that humanity's fear and hatred of the whale may be driven by deeper, more mystical and ineffable forces. The narrator describes a \"vague, nameless horror\" associated with the whale's whiteness, which at times completely overpowers all other considerations. This suggests that the human struggle against nature is not just a matter of physical survival, but also a struggle to understand and make sense of the world around us.\n",
            "\n",
            "Furthermore, the text highlights the capricious and unreliable nature of sailors, who are influenced by their surroundings and require temporary interests and employments to stay focused on their objectives. This suggests that humanity's struggle against nature is also a struggle against our own limitations and weaknesses, and that we must find ways to overcome these challenges in order to succeed.\n",
            "\n",
            "Overall, the text suggests that humanity's struggle against nature is a complex and nuanced endeavor, shaped by both physical and psychological factors. It is a struggle that requires not only physical courage and determination, but also intellectual curiosity and a willingness to confront and grapple with the unknown.\n",
            "-------------\n",
            "How does Moby Dick explore the theme of obsession through Ahab's quest?\n",
            "\t1. \"Depiction of obsession in Moby Dick through Ahab's character\"\n",
            "\t2. \"Analysis of Ahab's quest as a representation of obsession in Moby Dick\"\n",
            "\t3. \"Exploration of the theme of obsession in Moby Dick's narrative arc of Captain Ahab\"\n",
            "\n",
            "Answer: \n",
            "Moby Dick explores the theme of obsession through the character of Ahab and his relentless quest to exact revenge on Moby Dick, the white whale. Ahab's fixation on the whale is so intense that it consumes him entirely, becoming a monomania that drives him to pursue the creature at any cost.\n",
            "\n",
            "The passage describes how Ahab's \"ruling passion\" for vengeance against Moby Dick may have extended to all sperm whales, leading him to kill more and more of them in the hopes of finding the one he seeks. This suggests an escalating cycle of violence and obsession, as Ahab's hatred becomes more indiscriminate and all-consuming.\n",
            "\n",
            "The passage also notes that Ahab's obsession likely did not begin at the moment of his physical dismemberment by the whale, but rather took hold during the long months of his recovery. This suggests that obsession can be a slow and insidious process, building up over time and eventually taking over a person's entire being.\n",
            "\n",
            "Furthermore, the passage highlights the idea that Ahab's quest for revenge is not solely driven by his personal vendetta against the whale, but also by his need to use tools (i.e., men and ships) to accomplish his objective. This adds a layer of complexity to Ahab's character, suggesting that his obsession is not just about the whale, but also about the power and control he wields over others in pursuit of his goal.\n",
            "\n",
            "Overall, Moby Dick uses Ahab's obsession with the white whale to explore themes of revenge, power, and the all-consuming nature of fixation. The novel suggests that obsession can be a destructive force, leading to madness and violence, and that it is important to maintain a sense of perspective and balance in one's pursuits.\n",
            "-------------\n",
            "How is Captain Ahab portrayed as both a hero and a villain in Moby Dick?\n",
            "\t1. \"Depiction of Captain Ahab as a hero in Moby Dick\"\n",
            "\t2. \"Captain Ahab's villainous characteristics in Moby Dick\"\n",
            "\t3. \"Balancing of hero and villain traits in Captain Ahab's character in Moby Dick\"\n",
            "\n",
            "Answer: \n",
            "Based on the provided text excerpt from Moby Dick, Captain Ahab is portrayed as a hero in the sense that he is described as a good whale-hunter and a good captain to his crew. His skills and leadership are respected among \"some of us old sailor chaps\" as mentioned by the stranger.\n",
            "\n",
            "However, the same excerpt also introduces an element of villainy to Ahab's character. The stranger's response about Captain Ahab being \"all right\" implies that there's something wrong with him, possibly physically or mentally, which could be interpreted as a negative trait. Furthermore, the stranger's solemnly derisive laugh suggests that Ahab's condition is serious and might be related to his obsession with hunting the white whale, Moby Dick. This obsession, which drives much of the narrative in the novel, can be seen as villainous as it puts the lives of the crew and the success of the voyage in jeopardy.\n",
            "\n",
            "So, while Captain Ahab is presented as a heroic figure in terms of his capabilities and leadership, his fixation on Moby Dick paints him in a villainous light.\n"
          ]
        }
      ],
      "source": [
        "from operator import itemgetter\n",
        "from langchain_mistralai import ChatMistralAI\n",
        "from langchain_core.runnables import RunnablePassthrough\n",
        "\n",
        "# RAG\n",
        "template = \"\"\"Answer the following question based on this context:\n",
        "\n",
        "{context}\n",
        "\n",
        "Question: {question}\n",
        "\"\"\"\n",
        "\n",
        "prompt = ChatPromptTemplate.from_template(template)\n",
        "\n",
        "llm = ChatMistralAI(temperature=0)\n",
        "\n",
        "final_rag_chain = (\n",
        "    {\"context\": retrieval_chain,\n",
        "     \"question\": itemgetter(\"question\")}\n",
        "    | prompt\n",
        "    | llm\n",
        "    | StrOutputParser()\n",
        ")\n",
        "\n",
        "for question in questions:\n",
        "    print(\"-------------\")\n",
        "    print(question)\n",
        "    rephrased_questions = generate_queries.invoke({\"question\":question})\n",
        "    for rephrased_question in rephrased_questions:\n",
        "        print(\"\\t\"+rephrased_question)\n",
        "    print(\"\\nAnswer: \")\n",
        "    print(final_rag_chain.invoke({\"question\":question}))"
      ]
    },
    {
      "cell_type": "code",
      "source": [],
      "metadata": {
        "id": "GyoRf-6komAi"
      },
      "id": "GyoRf-6komAi",
      "execution_count": null,
      "outputs": []
    }
  ],
  "metadata": {
    "kernelspec": {
      "display_name": "Python 3 (ipykernel)",
      "language": "python",
      "name": "python3"
    },
    "language_info": {
      "codemirror_mode": {
        "name": "ipython",
        "version": 3
      },
      "file_extension": ".py",
      "mimetype": "text/x-python",
      "name": "python",
      "nbconvert_exporter": "python",
      "pygments_lexer": "ipython3",
      "version": "3.11.8"
    },
    "colab": {
      "provenance": []
    }
  },
  "nbformat": 4,
  "nbformat_minor": 5
}