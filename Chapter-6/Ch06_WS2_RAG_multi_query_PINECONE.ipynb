{
  "cells": [
    {
      "cell_type": "markdown",
      "source": [
        "## Environment Setup"
      ],
      "metadata": {
        "id": "Joq7ORdChec4"
      },
      "id": "Joq7ORdChec4"
    },
    {
      "cell_type": "code",
      "execution_count": null,
      "id": "df89be8f-2c49-4f4f-9503-2bff0b08a67a",
      "metadata": {
        "id": "df89be8f-2c49-4f4f-9503-2bff0b08a67a",
        "colab": {
          "base_uri": "https://localhost:8080/"
        },
        "collapsed": true,
        "outputId": "0a95164f-dd84-4ab5-844f-57604c93c087"
      },
      "outputs": [
        {
          "output_type": "stream",
          "name": "stdout",
          "text": [
            "Collecting langchain_community\n",
            "  Downloading langchain_community-0.3.7-py3-none-any.whl.metadata (2.9 kB)\n",
            "Collecting langchain_mistralai\n",
            "  Downloading langchain_mistralai-0.2.1-py3-none-any.whl.metadata (2.4 kB)\n",
            "Collecting langchainhub\n",
            "  Downloading langchainhub-0.1.21-py3-none-any.whl.metadata (659 bytes)\n",
            "Requirement already satisfied: langchain in /usr/local/lib/python3.10/dist-packages (0.3.7)\n",
            "Collecting tiktoken\n",
            "  Downloading tiktoken-0.8.0-cp310-cp310-manylinux_2_17_x86_64.manylinux2014_x86_64.whl.metadata (6.6 kB)\n",
            "Collecting langchain_pinecone\n",
            "  Downloading langchain_pinecone-0.2.0-py3-none-any.whl.metadata (1.7 kB)\n",
            "Requirement already satisfied: PyYAML>=5.3 in /usr/local/lib/python3.10/dist-packages (from langchain_community) (6.0.2)\n",
            "Collecting SQLAlchemy<2.0.36,>=1.4 (from langchain_community)\n",
            "  Downloading SQLAlchemy-2.0.35-cp310-cp310-manylinux_2_17_x86_64.manylinux2014_x86_64.whl.metadata (9.6 kB)\n",
            "Requirement already satisfied: aiohttp<4.0.0,>=3.8.3 in /usr/local/lib/python3.10/dist-packages (from langchain_community) (3.10.10)\n",
            "Collecting dataclasses-json<0.7,>=0.5.7 (from langchain_community)\n",
            "  Downloading dataclasses_json-0.6.7-py3-none-any.whl.metadata (25 kB)\n",
            "Collecting httpx-sse<0.5.0,>=0.4.0 (from langchain_community)\n",
            "  Downloading httpx_sse-0.4.0-py3-none-any.whl.metadata (9.0 kB)\n",
            "Collecting langchain-core<0.4.0,>=0.3.17 (from langchain_community)\n",
            "  Downloading langchain_core-0.3.18-py3-none-any.whl.metadata (6.3 kB)\n",
            "Requirement already satisfied: langsmith<0.2.0,>=0.1.125 in /usr/local/lib/python3.10/dist-packages (from langchain_community) (0.1.142)\n",
            "Requirement already satisfied: numpy<2,>=1 in /usr/local/lib/python3.10/dist-packages (from langchain_community) (1.26.4)\n",
            "Collecting pydantic-settings<3.0.0,>=2.4.0 (from langchain_community)\n",
            "  Downloading pydantic_settings-2.6.1-py3-none-any.whl.metadata (3.5 kB)\n",
            "Requirement already satisfied: requests<3,>=2 in /usr/local/lib/python3.10/dist-packages (from langchain_community) (2.32.3)\n",
            "Requirement already satisfied: tenacity!=8.4.0,<10,>=8.1.0 in /usr/local/lib/python3.10/dist-packages (from langchain_community) (9.0.0)\n",
            "Requirement already satisfied: httpx<1,>=0.25.2 in /usr/local/lib/python3.10/dist-packages (from langchain_mistralai) (0.27.2)\n",
            "Requirement already satisfied: pydantic<3,>=2 in /usr/local/lib/python3.10/dist-packages (from langchain_mistralai) (2.9.2)\n",
            "Requirement already satisfied: tokenizers<1,>=0.15.1 in /usr/local/lib/python3.10/dist-packages (from langchain_mistralai) (0.20.3)\n",
            "Requirement already satisfied: packaging<25,>=23.2 in /usr/local/lib/python3.10/dist-packages (from langchainhub) (24.2)\n",
            "Collecting types-requests<3.0.0.0,>=2.31.0.2 (from langchainhub)\n",
            "  Downloading types_requests-2.32.0.20241016-py3-none-any.whl.metadata (1.9 kB)\n",
            "Requirement already satisfied: async-timeout<5.0.0,>=4.0.0 in /usr/local/lib/python3.10/dist-packages (from langchain) (4.0.3)\n",
            "Requirement already satisfied: langchain-text-splitters<0.4.0,>=0.3.0 in /usr/local/lib/python3.10/dist-packages (from langchain) (0.3.2)\n",
            "Requirement already satisfied: regex>=2022.1.18 in /usr/local/lib/python3.10/dist-packages (from tiktoken) (2024.9.11)\n",
            "Collecting aiohttp<4.0.0,>=3.8.3 (from langchain_community)\n",
            "  Downloading aiohttp-3.9.5-cp310-cp310-manylinux_2_17_x86_64.manylinux2014_x86_64.whl.metadata (7.5 kB)\n",
            "Collecting pinecone-client<6.0.0,>=5.0.0 (from langchain_pinecone)\n",
            "  Downloading pinecone_client-5.0.1-py3-none-any.whl.metadata (19 kB)\n",
            "Requirement already satisfied: aiosignal>=1.1.2 in /usr/local/lib/python3.10/dist-packages (from aiohttp<4.0.0,>=3.8.3->langchain_community) (1.3.1)\n",
            "Requirement already satisfied: attrs>=17.3.0 in /usr/local/lib/python3.10/dist-packages (from aiohttp<4.0.0,>=3.8.3->langchain_community) (24.2.0)\n",
            "Requirement already satisfied: frozenlist>=1.1.1 in /usr/local/lib/python3.10/dist-packages (from aiohttp<4.0.0,>=3.8.3->langchain_community) (1.5.0)\n",
            "Requirement already satisfied: multidict<7.0,>=4.5 in /usr/local/lib/python3.10/dist-packages (from aiohttp<4.0.0,>=3.8.3->langchain_community) (6.1.0)\n",
            "Requirement already satisfied: yarl<2.0,>=1.0 in /usr/local/lib/python3.10/dist-packages (from aiohttp<4.0.0,>=3.8.3->langchain_community) (1.17.1)\n",
            "Collecting marshmallow<4.0.0,>=3.18.0 (from dataclasses-json<0.7,>=0.5.7->langchain_community)\n",
            "  Downloading marshmallow-3.23.1-py3-none-any.whl.metadata (7.5 kB)\n",
            "Collecting typing-inspect<1,>=0.4.0 (from dataclasses-json<0.7,>=0.5.7->langchain_community)\n",
            "  Downloading typing_inspect-0.9.0-py3-none-any.whl.metadata (1.5 kB)\n",
            "Requirement already satisfied: anyio in /usr/local/lib/python3.10/dist-packages (from httpx<1,>=0.25.2->langchain_mistralai) (3.7.1)\n",
            "Requirement already satisfied: certifi in /usr/local/lib/python3.10/dist-packages (from httpx<1,>=0.25.2->langchain_mistralai) (2024.8.30)\n",
            "Requirement already satisfied: httpcore==1.* in /usr/local/lib/python3.10/dist-packages (from httpx<1,>=0.25.2->langchain_mistralai) (1.0.6)\n",
            "Requirement already satisfied: idna in /usr/local/lib/python3.10/dist-packages (from httpx<1,>=0.25.2->langchain_mistralai) (3.10)\n",
            "Requirement already satisfied: sniffio in /usr/local/lib/python3.10/dist-packages (from httpx<1,>=0.25.2->langchain_mistralai) (1.3.1)\n",
            "Requirement already satisfied: h11<0.15,>=0.13 in /usr/local/lib/python3.10/dist-packages (from httpcore==1.*->httpx<1,>=0.25.2->langchain_mistralai) (0.14.0)\n",
            "Requirement already satisfied: jsonpatch<2.0,>=1.33 in /usr/local/lib/python3.10/dist-packages (from langchain-core<0.4.0,>=0.3.17->langchain_community) (1.33)\n",
            "Requirement already satisfied: typing-extensions>=4.7 in /usr/local/lib/python3.10/dist-packages (from langchain-core<0.4.0,>=0.3.17->langchain_community) (4.12.2)\n",
            "Requirement already satisfied: orjson<4.0.0,>=3.9.14 in /usr/local/lib/python3.10/dist-packages (from langsmith<0.2.0,>=0.1.125->langchain_community) (3.10.11)\n",
            "Requirement already satisfied: requests-toolbelt<2.0.0,>=1.0.0 in /usr/local/lib/python3.10/dist-packages (from langsmith<0.2.0,>=0.1.125->langchain_community) (1.0.0)\n",
            "Collecting pinecone-plugin-inference<2.0.0,>=1.0.3 (from pinecone-client<6.0.0,>=5.0.0->langchain_pinecone)\n",
            "  Downloading pinecone_plugin_inference-1.1.0-py3-none-any.whl.metadata (2.2 kB)\n",
            "Collecting pinecone-plugin-interface<0.0.8,>=0.0.7 (from pinecone-client<6.0.0,>=5.0.0->langchain_pinecone)\n",
            "  Downloading pinecone_plugin_interface-0.0.7-py3-none-any.whl.metadata (1.2 kB)\n",
            "Requirement already satisfied: tqdm>=4.64.1 in /usr/local/lib/python3.10/dist-packages (from pinecone-client<6.0.0,>=5.0.0->langchain_pinecone) (4.66.6)\n",
            "Requirement already satisfied: urllib3>=1.26.0 in /usr/local/lib/python3.10/dist-packages (from pinecone-client<6.0.0,>=5.0.0->langchain_pinecone) (2.2.3)\n",
            "Requirement already satisfied: annotated-types>=0.6.0 in /usr/local/lib/python3.10/dist-packages (from pydantic<3,>=2->langchain_mistralai) (0.7.0)\n",
            "Requirement already satisfied: pydantic-core==2.23.4 in /usr/local/lib/python3.10/dist-packages (from pydantic<3,>=2->langchain_mistralai) (2.23.4)\n",
            "Collecting python-dotenv>=0.21.0 (from pydantic-settings<3.0.0,>=2.4.0->langchain_community)\n",
            "  Downloading python_dotenv-1.0.1-py3-none-any.whl.metadata (23 kB)\n",
            "Requirement already satisfied: charset-normalizer<4,>=2 in /usr/local/lib/python3.10/dist-packages (from requests<3,>=2->langchain_community) (3.4.0)\n",
            "Requirement already satisfied: greenlet!=0.4.17 in /usr/local/lib/python3.10/dist-packages (from SQLAlchemy<2.0.36,>=1.4->langchain_community) (3.1.1)\n",
            "Requirement already satisfied: huggingface-hub<1.0,>=0.16.4 in /usr/local/lib/python3.10/dist-packages (from tokenizers<1,>=0.15.1->langchain_mistralai) (0.26.2)\n",
            "Requirement already satisfied: filelock in /usr/local/lib/python3.10/dist-packages (from huggingface-hub<1.0,>=0.16.4->tokenizers<1,>=0.15.1->langchain_mistralai) (3.16.1)\n",
            "Requirement already satisfied: fsspec>=2023.5.0 in /usr/local/lib/python3.10/dist-packages (from huggingface-hub<1.0,>=0.16.4->tokenizers<1,>=0.15.1->langchain_mistralai) (2024.10.0)\n",
            "Requirement already satisfied: jsonpointer>=1.9 in /usr/local/lib/python3.10/dist-packages (from jsonpatch<2.0,>=1.33->langchain-core<0.4.0,>=0.3.17->langchain_community) (3.0.0)\n",
            "Collecting mypy-extensions>=0.3.0 (from typing-inspect<1,>=0.4.0->dataclasses-json<0.7,>=0.5.7->langchain_community)\n",
            "  Downloading mypy_extensions-1.0.0-py3-none-any.whl.metadata (1.1 kB)\n",
            "Requirement already satisfied: propcache>=0.2.0 in /usr/local/lib/python3.10/dist-packages (from yarl<2.0,>=1.0->aiohttp<4.0.0,>=3.8.3->langchain_community) (0.2.0)\n",
            "Requirement already satisfied: exceptiongroup in /usr/local/lib/python3.10/dist-packages (from anyio->httpx<1,>=0.25.2->langchain_mistralai) (1.2.2)\n",
            "Downloading langchain_community-0.3.7-py3-none-any.whl (2.4 MB)\n",
            "\u001b[2K   \u001b[90m━━━━━━━━━━━━━━━━━━━━━━━━━━━━━━━━━━━━━━━━\u001b[0m \u001b[32m2.4/2.4 MB\u001b[0m \u001b[31m24.6 MB/s\u001b[0m eta \u001b[36m0:00:00\u001b[0m\n",
            "\u001b[?25hDownloading langchain_mistralai-0.2.1-py3-none-any.whl (14 kB)\n",
            "Downloading langchainhub-0.1.21-py3-none-any.whl (5.2 kB)\n",
            "Downloading tiktoken-0.8.0-cp310-cp310-manylinux_2_17_x86_64.manylinux2014_x86_64.whl (1.2 MB)\n",
            "\u001b[2K   \u001b[90m━━━━━━━━━━━━━━━━━━━━━━━━━━━━━━━━━━━━━━━━\u001b[0m \u001b[32m1.2/1.2 MB\u001b[0m \u001b[31m50.5 MB/s\u001b[0m eta \u001b[36m0:00:00\u001b[0m\n",
            "\u001b[?25hDownloading langchain_pinecone-0.2.0-py3-none-any.whl (11 kB)\n",
            "Downloading aiohttp-3.9.5-cp310-cp310-manylinux_2_17_x86_64.manylinux2014_x86_64.whl (1.2 MB)\n",
            "\u001b[2K   \u001b[90m━━━━━━━━━━━━━━━━━━━━━━━━━━━━━━━━━━━━━━━━\u001b[0m \u001b[32m1.2/1.2 MB\u001b[0m \u001b[31m48.0 MB/s\u001b[0m eta \u001b[36m0:00:00\u001b[0m\n",
            "\u001b[?25hDownloading dataclasses_json-0.6.7-py3-none-any.whl (28 kB)\n",
            "Downloading httpx_sse-0.4.0-py3-none-any.whl (7.8 kB)\n",
            "Downloading langchain_core-0.3.18-py3-none-any.whl (409 kB)\n",
            "\u001b[2K   \u001b[90m━━━━━━━━━━━━━━━━━━━━━━━━━━━━━━━━━━━━━━━━\u001b[0m \u001b[32m409.3/409.3 kB\u001b[0m \u001b[31m25.0 MB/s\u001b[0m eta \u001b[36m0:00:00\u001b[0m\n",
            "\u001b[?25hDownloading pinecone_client-5.0.1-py3-none-any.whl (244 kB)\n",
            "\u001b[2K   \u001b[90m━━━━━━━━━━━━━━━━━━━━━━━━━━━━━━━━━━━━━━━━\u001b[0m \u001b[32m244.8/244.8 kB\u001b[0m \u001b[31m23.7 MB/s\u001b[0m eta \u001b[36m0:00:00\u001b[0m\n",
            "\u001b[?25hDownloading pydantic_settings-2.6.1-py3-none-any.whl (28 kB)\n",
            "Downloading SQLAlchemy-2.0.35-cp310-cp310-manylinux_2_17_x86_64.manylinux2014_x86_64.whl (3.1 MB)\n",
            "\u001b[2K   \u001b[90m━━━━━━━━━━━━━━━━━━━━━━━━━━━━━━━━━━━━━━━━\u001b[0m \u001b[32m3.1/3.1 MB\u001b[0m \u001b[31m77.8 MB/s\u001b[0m eta \u001b[36m0:00:00\u001b[0m\n",
            "\u001b[?25hDownloading types_requests-2.32.0.20241016-py3-none-any.whl (15 kB)\n",
            "Downloading marshmallow-3.23.1-py3-none-any.whl (49 kB)\n",
            "\u001b[2K   \u001b[90m━━━━━━━━━━━━━━━━━━━━━━━━━━━━━━━━━━━━━━━━\u001b[0m \u001b[32m49.5/49.5 kB\u001b[0m \u001b[31m4.6 MB/s\u001b[0m eta \u001b[36m0:00:00\u001b[0m\n",
            "\u001b[?25hDownloading pinecone_plugin_inference-1.1.0-py3-none-any.whl (85 kB)\n",
            "\u001b[2K   \u001b[90m━━━━━━━━━━━━━━━━━━━━━━━━━━━━━━━━━━━━━━━━\u001b[0m \u001b[32m85.4/85.4 kB\u001b[0m \u001b[31m9.0 MB/s\u001b[0m eta \u001b[36m0:00:00\u001b[0m\n",
            "\u001b[?25hDownloading pinecone_plugin_interface-0.0.7-py3-none-any.whl (6.2 kB)\n",
            "Downloading python_dotenv-1.0.1-py3-none-any.whl (19 kB)\n",
            "Downloading typing_inspect-0.9.0-py3-none-any.whl (8.8 kB)\n",
            "Downloading mypy_extensions-1.0.0-py3-none-any.whl (4.7 kB)\n",
            "Installing collected packages: types-requests, SQLAlchemy, python-dotenv, pinecone-plugin-interface, mypy-extensions, marshmallow, httpx-sse, typing-inspect, tiktoken, pinecone-plugin-inference, langchainhub, pydantic-settings, pinecone-client, dataclasses-json, aiohttp, langchain-core, langchain_pinecone, langchain_mistralai, langchain_community\n",
            "  Attempting uninstall: SQLAlchemy\n",
            "    Found existing installation: SQLAlchemy 2.0.36\n",
            "    Uninstalling SQLAlchemy-2.0.36:\n",
            "      Successfully uninstalled SQLAlchemy-2.0.36\n",
            "  Attempting uninstall: aiohttp\n",
            "    Found existing installation: aiohttp 3.10.10\n",
            "    Uninstalling aiohttp-3.10.10:\n",
            "      Successfully uninstalled aiohttp-3.10.10\n",
            "  Attempting uninstall: langchain-core\n",
            "    Found existing installation: langchain-core 0.3.15\n",
            "    Uninstalling langchain-core-0.3.15:\n",
            "      Successfully uninstalled langchain-core-0.3.15\n",
            "Successfully installed SQLAlchemy-2.0.35 aiohttp-3.9.5 dataclasses-json-0.6.7 httpx-sse-0.4.0 langchain-core-0.3.18 langchain_community-0.3.7 langchain_mistralai-0.2.1 langchain_pinecone-0.2.0 langchainhub-0.1.21 marshmallow-3.23.1 mypy-extensions-1.0.0 pinecone-client-5.0.1 pinecone-plugin-inference-1.1.0 pinecone-plugin-interface-0.0.7 pydantic-settings-2.6.1 python-dotenv-1.0.1 tiktoken-0.8.0 types-requests-2.32.0.20241016 typing-inspect-0.9.0\n"
          ]
        }
      ],
      "source": [
        "! pip install langchain_community langchain_mistralai langchainhub langchain tiktoken langchain_pinecone"
      ]
    },
    {
      "cell_type": "code",
      "execution_count": null,
      "id": "5258de38-0cc0-4d9d-a5ca-6e750ebe6976",
      "metadata": {
        "id": "5258de38-0cc0-4d9d-a5ca-6e750ebe6976"
      },
      "outputs": [],
      "source": [
        "import os\n",
        "os.environ['LANGCHAIN_TRACING_V2'] = 'true'\n",
        "os.environ['LANGCHAIN_ENDPOINT'] = 'https://api.smith.langchain.com'\n",
        "os.environ['LANGCHAIN_API_KEY'] = '<your key goes here>'\n",
        "os.environ['MISTRAL_API_KEY'] = '<your key goes here>'\n",
        "os.environ['PINECONE_API_KEY'] = '<your key goes here>'\n",
        "\n"
      ]
    },
    {
      "cell_type": "code",
      "source": [
        "questions = [ \"What does Moby Dick say about humanity's struggle against nature?\",\n",
        "              \"How does Moby Dick explore the theme of obsession through Ahab's quest?\",\n",
        "              \"How is Captain Ahab portrayed as both a hero and a villain in Moby Dick?\",\n",
        "              # \"What motivates Ishmael to join the Pequod, and how does he change throughout the novel?\",\n",
        "              # \"What does the white whale symbolize in Moby Dick, and how does it relate to Ahab's obsession?\",\n",
        "              # \"How does the novel Moby Dick use the ocean as a symbol of the unknown?\",\n",
        "              # \"How does Melville’s narrative style in Moby Dick contribute to the sense of adventure and mystery?\",\n",
        "              # \"How does Ishmael’s perspective shape the reader’s understanding of the story in Moby Dick?\",\n",
        "              # \"How does Moby Dick reflect 19th-century views on fate and destiny?\",\n",
        "              # \"What philosophical questions does Melville raise about human existence and purpose in Moby Dick?\",\n",
        "              # \"How does Melville use imagery to depict the sea as both beautiful and terrifying in Moby Dick?\",\n",
        "              # \"How does Moby Dick describe the vastness and danger of the open sea?\",\n",
        "              # \"What moral dilemmas do the crew members face in Moby Dick?\",\n",
        "              # \"How does Moby Dick present Ahab's pursuit of revenge as both justified and self-destructive?\"\n",
        "              ]\n",
        "\n",
        "question = questions[0]"
      ],
      "metadata": {
        "id": "ewAi5bmohmgP"
      },
      "id": "ewAi5bmohmgP",
      "execution_count": null,
      "outputs": []
    },
    {
      "cell_type": "markdown",
      "source": [
        "## Indexing"
      ],
      "metadata": {
        "id": "tKuokc8HizW8"
      },
      "id": "tKuokc8HizW8"
    },
    {
      "cell_type": "code",
      "source": [
        "from langchain_community.document_loaders import WebBaseLoader\n",
        "# there can be mulitple urls\n",
        "loader = WebBaseLoader(\"https://www.gutenberg.org/cache/epub/2701/pg2701.txt\")\n",
        "books = loader.load()"
      ],
      "metadata": {
        "colab": {
          "base_uri": "https://localhost:8080/"
        },
        "id": "LXOKovlBi2UT",
        "outputId": "fef34b02-505e-4489-df89-632c8dbe9cf8"
      },
      "id": "LXOKovlBi2UT",
      "execution_count": null,
      "outputs": [
        {
          "output_type": "stream",
          "name": "stderr",
          "text": [
            "WARNING:langchain_community.utils.user_agent:USER_AGENT environment variable not set, consider setting it to identify your requests.\n"
          ]
        }
      ]
    },
    {
      "cell_type": "markdown",
      "source": [
        "### Splitting the text"
      ],
      "metadata": {
        "id": "pA3RMwUVi_LC"
      },
      "id": "pA3RMwUVi_LC"
    },
    {
      "cell_type": "code",
      "source": [
        "from langchain.text_splitter import RecursiveCharacterTextSplitter\n",
        "text_splitter = RecursiveCharacterTextSplitter.from_tiktoken_encoder(\n",
        "    chunk_size=300,\n",
        "    chunk_overlap=50)\n",
        "\n",
        "# Make splits\n",
        "splits = text_splitter.split_documents(books)\n",
        "len(splits)"
      ],
      "metadata": {
        "colab": {
          "base_uri": "https://localhost:8080/"
        },
        "id": "xKrm-uRXi6Y-",
        "outputId": "0a3973b9-03f7-4032-afe2-0ae511e7e262"
      },
      "id": "xKrm-uRXi6Y-",
      "execution_count": null,
      "outputs": [
        {
          "output_type": "execute_result",
          "data": {
            "text/plain": [
              "1412"
            ]
          },
          "metadata": {},
          "execution_count": 5
        }
      ]
    },
    {
      "cell_type": "markdown",
      "source": [
        "### vectorize chnks"
      ],
      "metadata": {
        "id": "1XG7zsLSjG2k"
      },
      "id": "1XG7zsLSjG2k"
    },
    {
      "cell_type": "code",
      "source": [
        "from langchain_mistralai import MistralAIEmbeddings\n",
        "from langchain_community.vectorstores import Pinecone\n",
        "\n",
        "vectorstore = Pinecone.from_documents(\n",
        "                                            index_name = 'book-passages',\n",
        "                                            documents = splits,\n",
        "                                            embedding = MistralAIEmbeddings())"
      ],
      "metadata": {
        "colab": {
          "base_uri": "https://localhost:8080/"
        },
        "id": "lJDCT94ejLMk",
        "outputId": "6c4b1420-01e9-4057-cefa-d17e9ce0960d"
      },
      "id": "lJDCT94ejLMk",
      "execution_count": null,
      "outputs": [
        {
          "output_type": "stream",
          "name": "stderr",
          "text": [
            "/usr/local/lib/python3.10/dist-packages/huggingface_hub/utils/_auth.py:94: UserWarning: \n",
            "The secret `HF_TOKEN` does not exist in your Colab secrets.\n",
            "To authenticate with the Hugging Face Hub, create a token in your settings tab (https://huggingface.co/settings/tokens), set it as secret in your Google Colab and restart your session.\n",
            "You will be able to reuse this secret in all of your notebooks.\n",
            "Please note that authentication is recommended but still optional to access public models or datasets.\n",
            "  warnings.warn(\n",
            "/usr/local/lib/python3.10/dist-packages/langchain_mistralai/embeddings.py:169: UserWarning: Could not download mistral tokenizer from Huggingface for calculating batch sizes. Set a Huggingface token via the HF_TOKEN environment variable to download the real tokenizer. Falling back to a dummy tokenizer that uses `len()`.\n",
            "  warnings.warn(\n"
          ]
        }
      ]
    },
    {
      "cell_type": "markdown",
      "source": [
        "## Retrieval"
      ],
      "metadata": {
        "id": "r6StrW5PjUFe"
      },
      "id": "r6StrW5PjUFe"
    },
    {
      "cell_type": "markdown",
      "source": [
        "### Init Retriever"
      ],
      "metadata": {
        "id": "DDBVswV-jfcj"
      },
      "id": "DDBVswV-jfcj"
    },
    {
      "cell_type": "code",
      "source": [
        "retriever = vectorstore.as_retriever(search_kwargs={\"k\": 1})"
      ],
      "metadata": {
        "id": "Hfav_yuTjSpm"
      },
      "id": "Hfav_yuTjSpm",
      "execution_count": null,
      "outputs": []
    },
    {
      "cell_type": "markdown",
      "id": "76f1b6c5-faa9-404b-90c6-22d3b40169fa",
      "metadata": {
        "id": "76f1b6c5-faa9-404b-90c6-22d3b40169fa"
      },
      "source": [
        "### Drill-down Prompt"
      ]
    },
    {
      "cell_type": "code",
      "execution_count": null,
      "id": "965de464-0c98-4318-9f9e-f8a597c8d5d6",
      "metadata": {
        "id": "965de464-0c98-4318-9f9e-f8a597c8d5d6"
      },
      "outputs": [],
      "source": [
        "from langchain.prompts import ChatPromptTemplate\n",
        "\n",
        "# Multi Query: Different Perspectives\n",
        "template = \"\"\"Generate five unique variations of the given user question to improve document retrieval from a vector database.\n",
        "The goal is to create diverse perspectives on the question, helping to mitigate limitations of distance-based similarity search.\n",
        "Separate each alternative question with a newline. Original question: {question}\"\"\"\n",
        "prompt_perspectives = ChatPromptTemplate.from_template(template)\n",
        "\n",
        "from langchain_core.output_parsers import StrOutputParser\n",
        "from langchain_mistralai import ChatMistralAI\n",
        "\n",
        "generate_queries = (\n",
        "    prompt_perspectives\n",
        "    | ChatMistralAI(temperature=0)\n",
        "    | StrOutputParser()\n",
        "    | (lambda x: x.split(\"\\n\"))\n",
        ")"
      ]
    },
    {
      "cell_type": "markdown",
      "source": [
        "### Output original questions and their rephrased questions"
      ],
      "metadata": {
        "id": "YVsVQ_M3yYJf"
      },
      "id": "YVsVQ_M3yYJf"
    },
    {
      "cell_type": "code",
      "source": [
        "for question in questions:\n",
        "    print(\"-------------\")\n",
        "    print(question)\n",
        "    rephrased_questions = generate_queries.invoke({\"question\":question})\n",
        "    for rephrased_question in rephrased_questions:\n",
        "        print(\"\\t\"+rephrased_question)"
      ],
      "metadata": {
        "colab": {
          "base_uri": "https://localhost:8080/"
        },
        "id": "iTjaQ_4bnY5t",
        "outputId": "5ccae2af-5596-4b48-e738-e3f11f4316dc"
      },
      "id": "iTjaQ_4bnY5t",
      "execution_count": null,
      "outputs": [
        {
          "output_type": "stream",
          "name": "stdout",
          "text": [
            "-------------\n",
            "What does Moby Dick say about humanity's struggle against nature?\n",
            "\t1. In what ways does Herman Melville's \"Moby Dick\" explore the theme of human conflict with nature?\n",
            "\t2. How does the novel \"Moby Dick\" portray the struggle between mankind and natural forces?\n",
            "\t3. Examine the depiction of humanity's battle against nature as presented in \"Moby Dick\".\n",
            "\t4. In the context of \"Moby Dick\", how can we understand the literary treatment of human's fight against nature?\n",
            "\t5. How does Melville use the story of \"Moby Dick\" to illustrate and critique humanity's attempt to dominate nature?\n",
            "-------------\n",
            "How does Moby Dick explore the theme of obsession through Ahab's quest?\n",
            "\t1. In what ways does Herman Melville's \"Moby Dick\" depict the theme of relentless pursuit, as exemplified by Captain Ahab's fixation on the white whale?\n",
            "\t2. How does Melville use the character of Ahab in \"Moby Dick\" to delve into the psychological implications of obsession throughout the narrative?\n",
            "\t3. Explore how the theme of obsession is portrayed in \"Moby Dick\", with particular focus on Ahab's unyielding hunt for Moby Dick and its impact on the crew.\n",
            "\t4. In the context of \"Moby Dick\", how can the exploration of Ahab's fixation on the white whale be seen as a metaphorical representation of obsession?\n",
            "\t5. How does Melville's portrayal of Ahab's obsessive quest for revenge against Moby Dick in \"Moby Dick\" contribute to the overall thematic development of obsession?\n",
            "-------------\n",
            "How is Captain Ahab portrayed as both a hero and a villain in Moby Dick?\n",
            "\t1. In what ways does Herman Melville's Moby Dick present Captain Ahab as a heroic figure and as an antagonist?\n",
            "\t2. How does the character of Captain Ahab in Moby Dick embody elements of both heroism and villainy?\n",
            "\t3. Could we analyze Captain Ahab from Moby Dick as a hero and a villain simultaneously? If so, how would we go about it?\n",
            "\t4. How does Melville use the character of Captain Ahab to explore the complexities of heroism and villainy in his novel Moby Dick?\n",
            "\t5. How can the portrayal of Captain Ahab in Moby Dick be interpreted from two viewpoints: one, seeing him as a hero, and the other, viewing him as a villain?\n"
          ]
        }
      ]
    },
    {
      "cell_type": "code",
      "execution_count": null,
      "id": "4f253520-386f-434b-8daa-d6dadb89eddb",
      "metadata": {
        "id": "4f253520-386f-434b-8daa-d6dadb89eddb",
        "colab": {
          "base_uri": "https://localhost:8080/"
        },
        "outputId": "4cd7adf1-4696-4164-dec2-20d5f2995513"
      },
      "outputs": [
        {
          "output_type": "stream",
          "name": "stderr",
          "text": [
            "<ipython-input-10-73df1d0ee15a>:10: LangChainBetaWarning: The function `loads` is in beta. It is actively being worked on, so the API may change.\n",
            "  return [loads(doc) for doc in unique_docs]\n"
          ]
        },
        {
          "output_type": "execute_result",
          "data": {
            "text/plain": [
              "2"
            ]
          },
          "metadata": {},
          "execution_count": 10
        }
      ],
      "source": [
        "from langchain.load import dumps, loads\n",
        "\n",
        "def get_unique_union(documents: list[list]):\n",
        "    \"\"\" Unique union of retrieved docs \"\"\"\n",
        "    # Flatten list of lists, and convert each Document to string\n",
        "    flattened_docs = [dumps(doc) for sublist in documents for doc in sublist]\n",
        "    # Get unique documents\n",
        "    unique_docs = list(set(flattened_docs))\n",
        "    # Return\n",
        "    return [loads(doc) for doc in unique_docs]\n",
        "\n",
        "# Retrieve\n",
        "\n",
        "retrieval_chain = generate_queries | retriever.map() | get_unique_union\n",
        "docs = retrieval_chain.invoke({\"question\":question})\n",
        "len(docs)"
      ]
    },
    {
      "cell_type": "markdown",
      "source": [
        "## Generation"
      ],
      "metadata": {
        "id": "2vtQifVixr_H"
      },
      "id": "2vtQifVixr_H"
    },
    {
      "cell_type": "code",
      "execution_count": null,
      "id": "af6e74e8-ddae-4165-9e4b-0022ac125194",
      "metadata": {
        "id": "af6e74e8-ddae-4165-9e4b-0022ac125194",
        "colab": {
          "base_uri": "https://localhost:8080/"
        },
        "outputId": "1b7e3f49-1fd4-44df-8e05-95a1a2f52424"
      },
      "outputs": [
        {
          "output_type": "stream",
          "name": "stdout",
          "text": [
            "-------------\n",
            "What does Moby Dick say about humanity's struggle against nature?\n",
            "\t1. In what ways does Herman Melville's \"Moby Dick\" explore the theme of human conflict with nature?\n",
            "\t2. How does the novel \"Moby Dick\" portray the struggle between mankind and natural forces?\n",
            "\t3. Examine the depiction of humanity's battle against nature as presented in \"Moby Dick\".\n",
            "\t4. In the context of \"Moby Dick\", how can we understand the literary treatment of human's fight against nature?\n",
            "\t5. How does Melville use the story of \"Moby Dick\" to illustrate and critique humanity's attempt to dominate nature?\n",
            "\n",
            "Answer: \n",
            "The novel \"Moby Dick; Or, The Whale\" by Herman Melville presents a complex exploration of humanity's struggle against nature, as represented by the white whale, Moby Dick. The protagonist, Captain Ahab, is driven by an obsession to exact revenge on the whale for previous encounters that left him scarred and determined. Ahab's fixation on Moby Dick symbolizes the human desire to conquer and dominate nature, despite the potential consequences and the vastness of the natural world.\n",
            "\n",
            "The novel also highlights the limitations of human understanding and control over nature. Despite Ahab's relentless pursuit, Moby Dick remains an enigmatic and powerful force, ultimately leading to tragic consequences for Ahab and his crew. The whale's whiteness, which is described as \"mystical and well nigh ineffable,\" further emphasizes its elusive and otherworldly nature.\n",
            "\n",
            "Moreover, the novel explores the tension between the human need for action and the dangers of unchecked obsession. Ahab's officers and men require \"temporary interests and employments\" to maintain their focus and prevent them from being consumed by the pursuit of Moby Dick. This reflects the importance of balance and moderation in humanity's relationship with nature, as well as the potential dangers of becoming overly fixated on a single goal.\n",
            "\n",
            "In summary, \"Moby Dick; Or, The Whale\" presents a nuanced exploration of humanity's struggle against nature, emphasizing the limitations of human understanding and control, the dangers of unchecked obsession, and the importance of balance and moderation in our relationship with the natural world.\n",
            "-------------\n",
            "How does Moby Dick explore the theme of obsession through Ahab's quest?\n",
            "\t1. In what ways does Herman Melville's \"Moby Dick\" depict the theme of relentless pursuit, as exemplified by Captain Ahab's fixation on the white whale?\n",
            "\t2. How does Melville use the character of Ahab in \"Moby Dick\" to delve into the psychological implications of obsession throughout the narrative?\n",
            "\t3. Explore how the theme of obsession is portrayed in \"Moby Dick\", with particular focus on Ahab's unyielding hunt for Moby Dick and its impact on the crew.\n",
            "\t4. In the context of \"Moby Dick\", how can the exploration of Ahab's fixation on the white whale be seen as a metaphorical representation of obsession?\n",
            "\t5. How does Melville's portrayal of Ahab's obsessive quest for revenge against Moby Dick in \"Moby Dick\" contribute to the overall thematic development of obsession?\n",
            "\n",
            "Answer: \n",
            "Moby Dick, through the character of Ahab, explores the theme of obsession by detailing the captain's relentless pursuit of the white whale, Moby Dick. Ahab's fixation on revenge against the whale has become an all-consuming passion that drives him to the brink of madness. He is willing to sacrifice everything, including his ship, crew, and ultimately his own life, in order to fulfill his monomaniacal desire to kill Moby Dick.\n",
            "\n",
            "This obsession is so intense that it blinds Ahab to all reason and moral considerations. He disregards the well-being of his crew, the financial consequences of his actions, and even the potential dangers to himself. His fixation on the whale has become the sole purpose of his existence, and he can think of nothing else.\n",
            "\n",
            "The novel also explores how obsession can affect those around Ahab. His crew, initially eager to join the hunt for the white whale, soon become disillusioned and frightened by Ahab's fanatical behavior. They begin to question his sanity and fear for their own lives, yet they are unable to escape his magnetic pull.\n",
            "\n",
            "Furthermore, the novel suggests that Ahab's obsession may be fueled by a deeper, more ineffable horror associated with the whiteness of the whale. This vague, indescribable fear adds another layer to Ahab's fixation, making it even more mysterious and all-consuming.\n",
            "\n",
            "In summary, Moby Dick uses Ahab's relentless pursuit of the white whale to explore the theme of obsession, demonstrating how it can consume a person's life, blind them to reason, and affect those around them. The novel also hints at a deeper, more inexplicable fear associated with the whale, adding to the intensity of Ahab's fixation.\n",
            "-------------\n",
            "How is Captain Ahab portrayed as both a hero and a villain in Moby Dick?\n",
            "\t1. In what ways does Herman Melville's Moby Dick present Captain Ahab as a heroic figure and as an antagonist?\n",
            "\t2. How does the character of Captain Ahab in Moby Dick embody elements of both heroism and villainy?\n",
            "\t3. Could we analyze Captain Ahab from Moby Dick as a hero and a villain simultaneously? If so, how would we go about it?\n",
            "\t4. How does Melville use the character of Captain Ahab to explore the complexities of heroism and villainy in his novel Moby Dick?\n",
            "\t5. How can the portrayal of Captain Ahab in Moby Dick be interpreted from two viewpoints: one, seeing him as a hero, and the other, viewing him as a villain?\n",
            "\n",
            "Answer: \n",
            "In Moby Dick, Captain Ahab is portrayed as both a hero and a villain in several ways. As a hero, he is depicted as an experienced and skilled whale hunter, with a reputation for being a good captain to his crew. This is evident when the stranger describes Ahab as \"a good whale-hunter, and a good captain to his crew\" (metadata={'source': 'https://www.gutenberg.org/cache/epub/2701/pg2701.txt'}, page_content='They didn’t tell much of anything about him; only I’ve heard that he’s a good whale-hunter, and a good captain to his crew.'). Additionally, Ahab's determination and obsession with hunting down Moby Dick, the white whale, demonstrate his heroic qualities of courage, perseverance, and leadership.\n",
            "\n",
            "However, Ahab's relentless pursuit of Moby Dick also portrays him as a villain. His obsession drives him to the point of madness, causing him to disregard the safety and well-being of his crew and the ship. He prioritizes his personal vendetta over the collective good, leading to disastrous consequences. This is evident when Ahab declares, \"Death and devils! men, it is Moby Dick ye have seen—Moby Dick—Moby Dick!\" (metadata={'source': 'https://www.gutenberg.org/cache/epub/2701/pg2701.txt'}, page_content='“Captain Ahab,” said Starbuck, who, with Stubb and Flask, had thus far\\r\\nbeen eyeing his superior with increasing surprise, but at last seemed\\r\\nstruck with a thought which somewhat explained all the wonder. “Captain\\r\\nAhab, I have heard of Moby Dick—but it was not Moby Dick that took off\\r\\nthy leg?”\\r\\n\\r\\n“Who told thee that?” cried Ahab; then pausing, “Aye, Starbuck; aye, my'). Ahab's fixation on revenge against the whale ultimately leads to the destruction of the Pequod and the loss of his own life, solidifying his villainous nature.\n",
            "\n",
            "In summary, Captain Ahab is portrayed as both a hero and a villain in Moby Dick through his exceptional whaling skills, courage, and leadership, as well as his dangerous obsession, disregard for the safety of others, and tragic consequences resulting from his relentless pursuit of Moby Dick.\n"
          ]
        }
      ],
      "source": [
        "from operator import itemgetter\n",
        "from langchain_mistralai import ChatMistralAI\n",
        "from langchain_core.runnables import RunnablePassthrough\n",
        "\n",
        "# RAG\n",
        "template = \"\"\"Answer the following question based on this context:\n",
        "\n",
        "{context}\n",
        "\n",
        "Question: {question}\n",
        "\"\"\"\n",
        "\n",
        "prompt = ChatPromptTemplate.from_template(template)\n",
        "\n",
        "llm = ChatMistralAI(temperature=0)\n",
        "\n",
        "final_rag_chain = (\n",
        "    {\"context\": retrieval_chain,\n",
        "     \"question\": itemgetter(\"question\")}\n",
        "    | prompt\n",
        "    | llm\n",
        "    | StrOutputParser()\n",
        ")\n",
        "\n",
        "# final_rag_chain.invoke({\"question\":questions[1]})\n",
        "\n",
        "for question in questions:\n",
        "    print(\"-------------\")\n",
        "    print(question)\n",
        "    rephrased_questions = generate_queries.invoke({\"question\":question})\n",
        "    for rephrased_question in rephrased_questions:\n",
        "        print(\"\\t\"+rephrased_question)\n",
        "    print(\"\\nAnswer: \")\n",
        "    print(final_rag_chain.invoke({\"question\":question}))"
      ]
    },
    {
      "cell_type": "code",
      "source": [],
      "metadata": {
        "id": "GyoRf-6komAi"
      },
      "id": "GyoRf-6komAi",
      "execution_count": null,
      "outputs": []
    }
  ],
  "metadata": {
    "kernelspec": {
      "display_name": "Python 3 (ipykernel)",
      "language": "python",
      "name": "python3"
    },
    "language_info": {
      "codemirror_mode": {
        "name": "ipython",
        "version": 3
      },
      "file_extension": ".py",
      "mimetype": "text/x-python",
      "name": "python",
      "nbconvert_exporter": "python",
      "pygments_lexer": "ipython3",
      "version": "3.11.8"
    },
    "colab": {
      "provenance": []
    }
  },
  "nbformat": 4,
  "nbformat_minor": 5
}